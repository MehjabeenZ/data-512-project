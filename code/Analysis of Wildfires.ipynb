{
 "cells": [
  {
   "cell_type": "markdown",
   "metadata": {
    "tags": []
   },
   "source": [
    "# Project Part 1: Analysis of Wildfires in Gillette, Wyoming\n",
    "\n",
    "##### In this project, we will be analyzing wildfire impacts on the city of Gillette in Wyoming. Part of this file uses code developed by Dr. David W. McDonald for use in DATA 512, a course in the UW MS Data Science degree program. This code is provided under the [Creative Commons](https://creativecommons.org) [CC-BY license](https://creativecommons.org/licenses/by/4.0/). Revision 1.1 - September 5, 2023"
   ]
  },
  {
   "cell_type": "markdown",
   "metadata": {},
   "source": [
    "## Step 1: Extracting and Preparing Wildfire Data\n",
    "\n",
    "##### The dataset used is the complete [Combined wildland fire datasets for the United States and certain territories, 1800s-Present (combined wildland fire polygons) dataset](https://www.sciencebase.gov/catalog/item/61aa537dd34eb622f699df81). This dataset was collected and aggregated by the US Geological Survey.  \n",
    "\n",
    "#### Step 1.1: Importing required libraries"
   ]
  },
  {
   "cell_type": "code",
   "execution_count": 1,
   "metadata": {
    "tags": []
   },
   "outputs": [],
   "source": [
    "#    Import some standard python modules\n",
    "import json\n",
    "import time\n",
    "#\n",
    "#    The module pyproj is a standard module that can be installed using pip or your other favorite\n",
    "#    installation tool. This module provides tools to convert between different geodesic coordinate systems\n",
    "#    and for calculating distances between points (coordinates) in a specific geodesic system.\n",
    "#\n",
    "from pyproj import Transformer, Geod\n",
    "import geojson\n",
    "from tqdm import tqdm\n",
    "import pandas as pd\n",
    "import requests\n",
    "import datetime\n",
    "from collections import defaultdict\n",
    "import seaborn as sns\n",
    "import matplotlib.pyplot as plt\n",
    "import numpy as np\n",
    "from statsmodels.tsa.arima.model import ARIMA"
   ]
  },
  {
   "cell_type": "markdown",
   "metadata": {},
   "source": [
    "#### Step 1.2: Defining constants"
   ]
  },
  {
   "cell_type": "code",
   "execution_count": 2,
   "metadata": {},
   "outputs": [],
   "source": [
    "#\n",
    "#    CONSTANTS\n",
    "#\n",
    "\n",
    "FILENAME = \"USGS_Wildland_Fire_Combined_Dataset.json\"\n",
    "\n",
    "\n",
    "CITY_LOCATION = {\n",
    "    'gillette': {'city': 'Gillette',\n",
    "                 'latlon': [44.2911, -105.5022] }\n",
    "}\n"
   ]
  },
  {
   "cell_type": "markdown",
   "metadata": {},
   "source": [
    "#### Step 1.3: Loading the json wildfire dataset using geoJSON"
   ]
  },
  {
   "cell_type": "code",
   "execution_count": 3,
   "metadata": {},
   "outputs": [
    {
     "name": "stdout",
     "output_type": "stream",
     "text": [
      "Attempting to open 'USGS_Wildland_Fire_Combined_Dataset.json'\n"
     ]
    }
   ],
   "source": [
    "#\n",
    "#    Open a file, load it with the geojson loader\n",
    "#\n",
    "print(f\"Attempting to open '{FILENAME}'\")\n",
    "with open(FILENAME,\"r\") as f:\n",
    "    gj_data = geojson.load(f)\n"
   ]
  },
  {
   "cell_type": "code",
   "execution_count": 4,
   "metadata": {},
   "outputs": [
    {
     "name": "stdout",
     "output_type": "stream",
     "text": [
      "The loaded JSON dictionary has the following keys:\n",
      "['displayFieldName', 'fieldAliases', 'geometryType', 'spatialReference', 'fields', 'features']\n",
      "\n"
     ]
    }
   ],
   "source": [
    "#    Print the keys from the object\n",
    "#\n",
    "gj_keys = list(gj_data.keys())\n",
    "print(\"The loaded JSON dictionary has the following keys:\")\n",
    "print(gj_keys)\n",
    "print()"
   ]
  },
  {
   "cell_type": "markdown",
   "metadata": {},
   "source": [
    "#### Step 1.4. Convert points between geodetic coordinate systems\n",
    "\n",
    "##### There are many geocoordinate systems - descriptions of many of them at [EPSG.io](https://epsg.io). The geometry of the wildfire data are generic polygons that are expressed in a coordinate system with the well-known ID (WKID) 102008. This coordinate system is also known as [ESRI:102008](https://epsg.io/102008)\n",
    "\n",
    "##### 'WGS84' is a representation of the earth, that also relies on a well known coordinate system that is sometimes called 'decimal degrees' (DD). That decimal degrees system has an official name (or WKID) of [EPSG:4326](https://epsg.io/4326).\n",
    "\n",
    "##### The function below will take the geometry of a fire feature, extract the largest ring (i.e., the largest boundary of the fire) and convert all of the points in that ring from the ESRI:102008 coordinate system to EPSG:4326 coordinates.\n"
   ]
  },
  {
   "cell_type": "code",
   "execution_count": 3,
   "metadata": {},
   "outputs": [],
   "source": [
    "#    Transform feature geometry data\n",
    "#\n",
    "#    The function takes one parameter, a list of ESRI:102008 coordinates that will be transformed to EPSG:4326\n",
    "#    The function returns a list of coordinates in EPSG:4326\n",
    "def convert_ring_to_epsg4326(ring_data=None):\n",
    "    converted_ring = list()\n",
    "    #\n",
    "    # We use a pyproj transformer that converts from ESRI:102008 to EPSG:4326 to transform the list of coordinates\n",
    "    to_epsg4326 = Transformer.from_crs(\"ESRI:102008\",\"EPSG:4326\")\n",
    "    # We'll run through the list transforming each ESRI:102008 x,y coordinate into a decimal degree lat,lon\n",
    "    for coord in ring_data:\n",
    "        lat,lon = to_epsg4326.transform(coord[0],coord[1])\n",
    "        new_coord = lat,lon\n",
    "        converted_ring.append(new_coord)\n",
    "    return converted_ring"
   ]
  },
  {
   "cell_type": "markdown",
   "metadata": {},
   "source": [
    "#### Step 1.5. Compute distance between a place and a wildfire\n",
    "##### The function below uses the Geod() object from PyProj to find the point on the perimeter of the with the shortest distance to the city (place) and returns the distance as well as the latitude and longitude of the perimeter point."
   ]
  },
  {
   "cell_type": "code",
   "execution_count": 4,
   "metadata": {},
   "outputs": [],
   "source": [
    "#    The function takes two parameters\n",
    "#        A place - which is coordinate point (list or tuple with two items, (lat,lon) in decimal degrees EPSG:4326\n",
    "#        Ring_data - a list of decimal degree coordinates for the fire boundary\n",
    "#\n",
    "#    The function returns a list containing the shortest distance to the perimeter and the point where that is\n",
    "#\n",
    "def shortest_distance_from_place_to_fire_perimeter(place=None,ring_data=None):\n",
    "    # convert the ring data to the right coordinate system\n",
    "    ring = convert_ring_to_epsg4326(ring_data)    \n",
    "    # create a epsg4326 compliant object - which is what the WGS84 ellipsoid is\n",
    "    geodcalc = Geod(ellps='WGS84')\n",
    "    closest_point = list()\n",
    "    # run through each point in the converted ring data\n",
    "    for point in ring:\n",
    "        # calculate the distance\n",
    "        d = geodcalc.inv(place[1],place[0],point[1],point[0])\n",
    "        # convert the distance to miles\n",
    "        distance_in_miles = d[2]*0.00062137\n",
    "        # if it's closer to the city than the point we have, save it\n",
    "        if not closest_point:\n",
    "            closest_point.append(distance_in_miles)\n",
    "            closest_point.append(point)\n",
    "        elif closest_point and closest_point[0]>distance_in_miles:\n",
    "            closest_point = list()\n",
    "            closest_point.append(distance_in_miles)\n",
    "            closest_point.append(point)\n",
    "    return closest_point\n"
   ]
  },
  {
   "cell_type": "markdown",
   "metadata": {},
   "source": [
    "#### Step 1.6. Filter Wildfire Incidents that occurred between 1963-2023 within 1250 miles from Gillette.\n",
    "\n",
    "##### The code below extracts and filters wildfire incident data from a GeoJSON dataset. It calculates the distance from Gillette to the perimeter of each wildfire that occurred between 1963-2023, and if the distance is within 1250 miles, it stores the attributes of the incident in a Pandas DataFrame df. This process is part of data preparation for further analysis of wildfire incidents and their proximity to the city."
   ]
  },
  {
   "cell_type": "code",
   "execution_count": 7,
   "metadata": {},
   "outputs": [
    {
     "name": "stderr",
     "output_type": "stream",
     "text": [
      " 81%|████████  | 109608/135061 [2:00:38<21:14, 19.98it/s]  "
     ]
    },
    {
     "name": "stdout",
     "output_type": "stream",
     "text": [
      "An error occurred : 'rings'\n"
     ]
    },
    {
     "name": "stderr",
     "output_type": "stream",
     "text": [
      " 82%|████████▏ | 110228/135061 [2:01:11<20:41, 20.00it/s]"
     ]
    },
    {
     "name": "stdout",
     "output_type": "stream",
     "text": [
      "An error occurred : 'rings'\n"
     ]
    },
    {
     "name": "stderr",
     "output_type": "stream",
     "text": [
      " 82%|████████▏ | 110640/135061 [2:01:38<35:21, 11.51it/s]"
     ]
    },
    {
     "name": "stdout",
     "output_type": "stream",
     "text": [
      "An error occurred : 'rings'\n"
     ]
    },
    {
     "name": "stderr",
     "output_type": "stream",
     "text": [
      " 83%|████████▎ | 111433/135061 [2:02:21<16:37, 23.68it/s]"
     ]
    },
    {
     "name": "stdout",
     "output_type": "stream",
     "text": [
      "An error occurred : 'rings'\n"
     ]
    },
    {
     "name": "stderr",
     "output_type": "stream",
     "text": [
      " 83%|████████▎ | 111780/135061 [2:02:37<17:56, 21.62it/s]"
     ]
    },
    {
     "name": "stdout",
     "output_type": "stream",
     "text": [
      "An error occurred : 'rings'\n"
     ]
    },
    {
     "name": "stderr",
     "output_type": "stream",
     "text": [
      " 83%|████████▎ | 111902/135061 [2:02:43<17:16, 22.34it/s]"
     ]
    },
    {
     "name": "stdout",
     "output_type": "stream",
     "text": [
      "An error occurred : 'rings'\n"
     ]
    },
    {
     "name": "stderr",
     "output_type": "stream",
     "text": [
      " 83%|████████▎ | 112414/135061 [2:03:08<15:52, 23.78it/s]"
     ]
    },
    {
     "name": "stdout",
     "output_type": "stream",
     "text": [
      "An error occurred : 'rings'\n",
      "An error occurred : 'rings'\n"
     ]
    },
    {
     "name": "stderr",
     "output_type": "stream",
     "text": [
      " 84%|████████▍ | 113413/135061 [2:03:55<15:25, 23.39it/s]"
     ]
    },
    {
     "name": "stdout",
     "output_type": "stream",
     "text": [
      "An error occurred : 'rings'\n"
     ]
    },
    {
     "name": "stderr",
     "output_type": "stream",
     "text": [
      " 84%|████████▍ | 113668/135061 [2:04:08<15:06, 23.61it/s]"
     ]
    },
    {
     "name": "stdout",
     "output_type": "stream",
     "text": [
      "An error occurred : 'rings'\n"
     ]
    },
    {
     "name": "stderr",
     "output_type": "stream",
     "text": [
      " 84%|████████▍ | 113740/135061 [2:04:11<15:09, 23.44it/s]"
     ]
    },
    {
     "name": "stdout",
     "output_type": "stream",
     "text": [
      "An error occurred : 'rings'\n"
     ]
    },
    {
     "name": "stderr",
     "output_type": "stream",
     "text": [
      " 84%|████████▍ | 113771/135061 [2:04:12<15:39, 22.65it/s]"
     ]
    },
    {
     "name": "stdout",
     "output_type": "stream",
     "text": [
      "An error occurred : 'rings'\n"
     ]
    },
    {
     "name": "stderr",
     "output_type": "stream",
     "text": [
      " 84%|████████▍ | 113806/135061 [2:04:14<17:11, 20.60it/s]"
     ]
    },
    {
     "name": "stdout",
     "output_type": "stream",
     "text": [
      "An error occurred : 'rings'\n"
     ]
    },
    {
     "name": "stderr",
     "output_type": "stream",
     "text": [
      " 85%|████████▍ | 114314/135061 [2:04:42<14:44, 23.45it/s]"
     ]
    },
    {
     "name": "stdout",
     "output_type": "stream",
     "text": [
      "An error occurred : 'rings'\n"
     ]
    },
    {
     "name": "stderr",
     "output_type": "stream",
     "text": [
      " 85%|████████▍ | 114326/135061 [2:04:42<14:58, 23.07it/s]"
     ]
    },
    {
     "name": "stdout",
     "output_type": "stream",
     "text": [
      "An error occurred : 'rings'\n"
     ]
    },
    {
     "name": "stderr",
     "output_type": "stream",
     "text": [
      " 86%|████████▌ | 115632/135061 [2:05:43<14:06, 22.96it/s]"
     ]
    },
    {
     "name": "stdout",
     "output_type": "stream",
     "text": [
      "An error occurred : 'rings'\n"
     ]
    },
    {
     "name": "stderr",
     "output_type": "stream",
     "text": [
      " 86%|████████▌ | 115977/135061 [2:06:00<13:51, 22.94it/s]"
     ]
    },
    {
     "name": "stdout",
     "output_type": "stream",
     "text": [
      "An error occurred : 'rings'\n"
     ]
    },
    {
     "name": "stderr",
     "output_type": "stream",
     "text": [
      " 86%|████████▌ | 116239/135061 [2:06:12<14:28, 21.68it/s]"
     ]
    },
    {
     "name": "stdout",
     "output_type": "stream",
     "text": [
      "An error occurred : 'rings'\n"
     ]
    },
    {
     "name": "stderr",
     "output_type": "stream",
     "text": [
      " 87%|████████▋ | 117091/135061 [2:06:53<12:37, 23.73it/s]"
     ]
    },
    {
     "name": "stdout",
     "output_type": "stream",
     "text": [
      "An error occurred : 'rings'\n"
     ]
    },
    {
     "name": "stderr",
     "output_type": "stream",
     "text": [
      " 89%|████████▊ | 119586/135061 [2:08:51<13:17, 19.42it/s]"
     ]
    },
    {
     "name": "stdout",
     "output_type": "stream",
     "text": [
      "An error occurred : 'rings'\n"
     ]
    },
    {
     "name": "stderr",
     "output_type": "stream",
     "text": [
      " 89%|████████▊ | 119618/135061 [2:08:53<12:16, 20.97it/s]"
     ]
    },
    {
     "name": "stdout",
     "output_type": "stream",
     "text": [
      "An error occurred : 'rings'\n"
     ]
    },
    {
     "name": "stderr",
     "output_type": "stream",
     "text": [
      " 89%|████████▊ | 119753/135061 [2:08:59<10:41, 23.85it/s]"
     ]
    },
    {
     "name": "stdout",
     "output_type": "stream",
     "text": [
      "An error occurred : 'rings'\n"
     ]
    },
    {
     "name": "stderr",
     "output_type": "stream",
     "text": [
      " 89%|████████▉ | 119987/135061 [2:09:11<11:38, 21.57it/s]"
     ]
    },
    {
     "name": "stdout",
     "output_type": "stream",
     "text": [
      "An error occurred : 'rings'\n"
     ]
    },
    {
     "name": "stderr",
     "output_type": "stream",
     "text": [
      " 89%|████████▉ | 120214/135061 [2:09:22<11:10, 22.14it/s]"
     ]
    },
    {
     "name": "stdout",
     "output_type": "stream",
     "text": [
      "An error occurred : 'rings'\n"
     ]
    },
    {
     "name": "stderr",
     "output_type": "stream",
     "text": [
      " 89%|████████▉ | 120434/135061 [2:09:34<10:12, 23.89it/s]"
     ]
    },
    {
     "name": "stdout",
     "output_type": "stream",
     "text": [
      "An error occurred : 'rings'\n"
     ]
    },
    {
     "name": "stderr",
     "output_type": "stream",
     "text": [
      " 89%|████████▉ | 120681/135061 [2:09:45<10:44, 22.31it/s]"
     ]
    },
    {
     "name": "stdout",
     "output_type": "stream",
     "text": [
      "An error occurred : 'rings'\n"
     ]
    },
    {
     "name": "stderr",
     "output_type": "stream",
     "text": [
      " 89%|████████▉ | 120748/135061 [2:09:49<10:41, 22.31it/s]"
     ]
    },
    {
     "name": "stdout",
     "output_type": "stream",
     "text": [
      "An error occurred : 'rings'\n"
     ]
    },
    {
     "name": "stderr",
     "output_type": "stream",
     "text": [
      " 90%|████████▉ | 121013/135061 [2:10:01<09:57, 23.52it/s]"
     ]
    },
    {
     "name": "stdout",
     "output_type": "stream",
     "text": [
      "An error occurred : 'rings'\n"
     ]
    },
    {
     "name": "stderr",
     "output_type": "stream",
     "text": [
      " 91%|█████████ | 122266/135061 [2:11:00<09:58, 21.37it/s]"
     ]
    },
    {
     "name": "stdout",
     "output_type": "stream",
     "text": [
      "An error occurred : 'rings'\n"
     ]
    },
    {
     "name": "stderr",
     "output_type": "stream",
     "text": [
      " 91%|█████████ | 122536/135061 [2:11:13<09:05, 22.94it/s]"
     ]
    },
    {
     "name": "stdout",
     "output_type": "stream",
     "text": [
      "An error occurred : 'rings'\n"
     ]
    },
    {
     "name": "stderr",
     "output_type": "stream",
     "text": [
      " 92%|█████████▏| 123764/135061 [2:12:10<08:07, 23.16it/s]"
     ]
    },
    {
     "name": "stdout",
     "output_type": "stream",
     "text": [
      "An error occurred : 'rings'\n"
     ]
    },
    {
     "name": "stderr",
     "output_type": "stream",
     "text": [
      " 92%|█████████▏| 124537/135061 [2:12:51<08:34, 20.46it/s]"
     ]
    },
    {
     "name": "stdout",
     "output_type": "stream",
     "text": [
      "An error occurred : 'rings'\n"
     ]
    },
    {
     "name": "stderr",
     "output_type": "stream",
     "text": [
      " 93%|█████████▎| 125050/135061 [2:13:16<07:12, 23.16it/s]"
     ]
    },
    {
     "name": "stdout",
     "output_type": "stream",
     "text": [
      "An error occurred : 'rings'\n"
     ]
    },
    {
     "name": "stderr",
     "output_type": "stream",
     "text": [
      " 93%|█████████▎| 125750/135061 [2:13:50<06:38, 23.34it/s]"
     ]
    },
    {
     "name": "stdout",
     "output_type": "stream",
     "text": [
      "An error occurred : 'rings'\n"
     ]
    },
    {
     "name": "stderr",
     "output_type": "stream",
     "text": [
      " 94%|█████████▍| 127496/135061 [2:15:13<05:33, 22.71it/s]"
     ]
    },
    {
     "name": "stdout",
     "output_type": "stream",
     "text": [
      "An error occurred : 'rings'\n"
     ]
    },
    {
     "name": "stderr",
     "output_type": "stream",
     "text": [
      "100%|██████████| 135061/135061 [2:21:04<00:00, 15.96it/s] \n"
     ]
    }
   ],
   "source": [
    "#    Get a city from our CITY_LOCATIONS constant as our starting position\n",
    "place = CITY_LOCATION[\"gillette\"]\n",
    "attributes_list = []\n",
    "\n",
    "for feature in tqdm(gj_data['features']):\n",
    "    try:\n",
    "        wf_year = feature['attributes']['Fire_Year']\n",
    "        if 1963 <= wf_year <= 2023:\n",
    "            ring_data = feature['geometry']['rings'][0]\n",
    "        \n",
    "        #   Compute using the shortest distance to any point on the perimeter\n",
    "            distance = shortest_distance_from_place_to_fire_perimeter(place['latlon'],ring_data)\n",
    "\n",
    "            if distance[0] <= 1250.00:\n",
    "                feature_attributes = feature['attributes']\n",
    "                feature_attributes['Distance'] = distance[0]\n",
    "                attributes_list.append(feature_attributes)\n",
    "    except Exception as e:\n",
    "        print(f\"An error occurred : {e}\")\n",
    "\n",
    "\n",
    "# Create a DataFrame from the list of feature dictionaries\n",
    "df = pd.DataFrame(attributes_list)\n"
   ]
  },
  {
   "cell_type": "markdown",
   "metadata": {},
   "source": [
    "##### From the result above, we can see that the attribute 'rings' was not present in all records in the wildfire dataset. The overall fireset produces 135,000+ rows. As the number of records that were not read is around 50, these are ignored. "
   ]
  },
  {
   "cell_type": "code",
   "execution_count": 10,
   "metadata": {},
   "outputs": [],
   "source": [
    "# df.to_csv('fire_data.csv', index=False)"
   ]
  },
  {
   "cell_type": "markdown",
   "metadata": {},
   "source": [
    "##### Storing the results as an intermediate file 'fire_data.csv' so that the distances do not have to be calculated again. "
   ]
  },
  {
   "cell_type": "code",
   "execution_count": 7,
   "metadata": {},
   "outputs": [
    {
     "name": "stderr",
     "output_type": "stream",
     "text": [
      "C:\\Users\\mehja\\AppData\\Local\\Temp\\ipykernel_22336\\2910247501.py:2: DtypeWarning: Columns (13) have mixed types. Specify dtype option on import or set low_memory=False.\n",
      "  df = pd.read_csv(file)\n"
     ]
    }
   ],
   "source": [
    "file = r\"C:\\Users\\mehja\\Documents\\UW Masters\\DATA 512 Human Centered Data Science\\Project\\fire_data_json.csv\"\n",
    "df = pd.read_csv(file)"
   ]
  },
  {
   "cell_type": "code",
   "execution_count": 12,
   "metadata": {},
   "outputs": [],
   "source": [
    "# Drop the variables that are not needed.\n",
    "df_analysis = df.drop(columns=['OBJECTID', 'Assigned_Fire_Type',\n",
    "       'Fire_Polygon_Tier', 'Fire_Attribute_Tiers',\n",
    "       'GIS_Hectares', 'Source_Datasets', 'Listed_Fire_Types',\n",
    "       'Listed_Fire_Names', 'Listed_Fire_Codes', 'Listed_Fire_IDs',\n",
    "       'Listed_Fire_IRWIN_IDs', 'Listed_Fire_Dates', 'Listed_Fire_Causes',\n",
    "       'Listed_Fire_Cause_Class', 'Listed_Rx_Reported_Acres',\n",
    "       'Listed_Map_Digitize_Methods', 'Listed_Notes', 'Processing_Notes',\n",
    "       'Wildfire_Notice', 'Prescribed_Burn_Notice', 'Wildfire_and_Rx_Flag',\n",
    "       'Overlap_Within_1_or_2_Flag', 'Circleness_Scale', 'Circle_Flag',\n",
    "       'Exclude_From_Summary_Rasters', 'Shape_Length', 'Shape_Area'])"
   ]
  },
  {
   "cell_type": "markdown",
   "metadata": {},
   "source": [
    "## Step 2: Extracting and Preparing Air Quality Index Data\n",
    "\n",
    "##### The code below requests data from the US Environmental Protection Agency (EPA) Air Quality Service (AQS) API. This is a historical API and does not provide real-time air quality data.   \n",
    "\n",
    "#### Step 2.1: Defining Constants"
   ]
  },
  {
   "cell_type": "code",
   "execution_count": 13,
   "metadata": {},
   "outputs": [],
   "source": [
    "#########\n",
    "#\n",
    "#    CONSTANTS\n",
    "#\n",
    "#    This is the root of all AQS API URLs\n",
    "#\n",
    "API_REQUEST_URL = 'https://aqs.epa.gov/data/api'\n",
    "\n",
    "#\n",
    "#    These are 'actions' we can ask the API to take or requests that we can make of the API\n",
    "#\n",
    "#    Sign-up request - generally only performed once - unless you lose your key\n",
    "API_ACTION_SIGNUP = '/signup?email={email}'\n",
    "#\n",
    "#    List actions provide information on API parameter values that are required by some other actions/requests\n",
    "API_ACTION_LIST_CLASSES = '/list/classes?email={email}&key={key}'\n",
    "API_ACTION_LIST_PARAMS = '/list/parametersByClass?email={email}&key={key}&pc={pclass}'\n",
    "API_ACTION_LIST_SITES = '/list/sitesByCounty?email={email}&key={key}&state={state}&county={county}'\n",
    "#\n",
    "#    Monitor actions are requests for monitoring stations that meet specific criteria\n",
    "API_ACTION_MONITORS_COUNTY = '/monitors/byCounty?email={email}&key={key}&param={param}&bdate={begin_date}&edate={end_date}&state={state}&county={county}'\n",
    "API_ACTION_MONITORS_BOX = '/monitors/byBox?email={email}&key={key}&param={param}&bdate={begin_date}&edate={end_date}&minlat={minlat}&maxlat={maxlat}&minlon={minlon}&maxlon={maxlon}'\n",
    "#\n",
    "#    Summary actions are requests for summary data. These are for daily summaries\n",
    "API_ACTION_DAILY_SUMMARY_COUNTY = '/dailyData/byCounty?email={email}&key={key}&param={param}&bdate={begin_date}&edate={end_date}&state={state}&county={county}'\n",
    "API_ACTION_DAILY_SUMMARY_BOX = '/dailyData/byBox?email={email}&key={key}&param={param}&bdate={begin_date}&edate={end_date}&minlat={minlat}&maxlat={maxlat}&minlon={minlon}&maxlon={maxlon}'\n",
    "#\n",
    "#    It is always nice to be respectful of a free data resource.\n",
    "#    We're going to observe a 100 requests per minute limit - which is fairly nice\n",
    "API_LATENCY_ASSUMED = 0.002       # Assuming roughly 2ms latency on the API and network\n",
    "API_THROTTLE_WAIT = (1.0/100.0)-API_LATENCY_ASSUMED\n",
    "#\n",
    "#\n",
    "#    This is a template that covers most of the parameters for the actions we might take, from the set of actions\n",
    "#    above. In the examples below, most of the time parameters can either be supplied as individual values to a\n",
    "#    function - or they can be set in a copy of the template and passed in with the template.\n",
    "# \n",
    "AQS_REQUEST_TEMPLATE = {\n",
    "    \"email\":      \"\",     \n",
    "    \"key\":        \"\",      \n",
    "    \"state\":      \"56\",     # the two digit state FIPS # as a string\n",
    "    \"county\":     \"005\",     # the three digit county FIPS # as a string\n",
    "    \"begin_date\": \"\",     # the start of a time window in YYYYMMDD format\n",
    "    \"end_date\":   \"\",     # the end of a time window in YYYYMMDD format, begin_date and end_date must be in the same year\n",
    "    \"minlat\":    0.0,\n",
    "    \"maxlat\":    0.0,\n",
    "    \"minlon\":    0.0,\n",
    "    \"maxlon\":    0.0,\n",
    "    \"param\":     \"\",     # a list of comma separated 5 digit codes, max 5 codes requested\n",
    "    \"pclass\":    \"\"      # parameter class is only used by the List calls\n",
    "}"
   ]
  },
  {
   "cell_type": "markdown",
   "metadata": {},
   "source": [
    "#### Step 2.1. Making a sign-up request\n",
    "\n",
    "##### Before we use the API we need request a key using an email address to make the request. The EPA then sends a confirmation email link and a 'key' that you use for all other requests. YThe sign-up only needs to be done once. \n"
   ]
  },
  {
   "cell_type": "code",
   "execution_count": 14,
   "metadata": {},
   "outputs": [],
   "source": [
    "#\n",
    "#    This implements the sign-up request. The parameters are standardized so that this function definition matches\n",
    "#    all of the others. However, the easiest way to call this is to simply call this function with your preferred\n",
    "#    email address.\n",
    "#\n",
    "def request_signup(email_address = None,\n",
    "                   endpoint_url = API_REQUEST_URL, \n",
    "                   endpoint_action = API_ACTION_SIGNUP, \n",
    "                   request_template = AQS_REQUEST_TEMPLATE,\n",
    "                   headers = None):\n",
    "    \n",
    "    # Make sure we have a string - if you don't have access to this email addres, things might go badly for you\n",
    "    if email_address:\n",
    "        request_template['email'] = email_address        \n",
    "    if not request_template['email']: \n",
    "        raise Exception(\"Must supply an email address to call 'request_signup()'\")\n",
    "    \n",
    "    # Compose the signup url - create a request URL by combining the endpoint_url with the parameters for the request\n",
    "    request_url = endpoint_url+endpoint_action.format(**request_template)\n",
    "        \n",
    "    # make the request\n",
    "    try:\n",
    "        # Wait first, to make sure we don't exceed a rate limit in the situation where an exception occurs\n",
    "        # during the request processing - throttling is always a good practice with a free data source\n",
    "        if API_THROTTLE_WAIT > 0.0:\n",
    "            time.sleep(API_THROTTLE_WAIT)\n",
    "        response = requests.get(request_url, headers=headers)\n",
    "        json_response = response.json()\n",
    "    except Exception as e:\n",
    "        print(e)\n",
    "        json_response = None\n",
    "    return json_response"
   ]
  },
  {
   "cell_type": "markdown",
   "metadata": {},
   "source": [
    "##### The sign-up is completed below and therefore has been commented out of the code. "
   ]
  },
  {
   "cell_type": "code",
   "execution_count": 9,
   "metadata": {},
   "outputs": [
    {
     "name": "stdout",
     "output_type": "stream",
     "text": [
      "Requesting SIGNUP ...\n",
      "{\n",
      "    \"Header\": [\n",
      "        {\n",
      "            \"status\": \"Success\",\n",
      "            \"request_time\": \"2023-11-06T21:18:07-05:00\",\n",
      "            \"url\": \"https://aqs.epa.gov/data/api/signup?email=mzameer@uw.edu\"\n",
      "        }\n",
      "    ],\n",
      "    \"Data\": [\n",
      "        \"You should receive a registration confirmation email with a link for confirming your email shortly.\"\n",
      "    ]\n",
      "}\n"
     ]
    }
   ],
   "source": [
    "#print(\"Requesting SIGNUP ...\")\n",
    "#response = request_signup(\"mzameer@uw.edu\")\n",
    "#print(json.dumps(response,indent=4))"
   ]
  },
  {
   "cell_type": "code",
   "execution_count": 15,
   "metadata": {},
   "outputs": [],
   "source": [
    "USERNAME = \"mzameer@uw.edu\"\n",
    "APIKEY = \"aquaram62\""
   ]
  },
  {
   "cell_type": "markdown",
   "metadata": {},
   "source": [
    "#### Step 2.2 Making a list request\n",
    "##### Once we have a key, the next thing is to get information about the different types of air quality monitoring (sensors) and the different places where we might find air quality stations. The monitoring system is complex and changes all the time. The EPA implementation allows an API user to find changes to monitoring sites and sensors by making requests - maybe monthly, or daily. "
   ]
  },
  {
   "cell_type": "code",
   "execution_count": 16,
   "metadata": {},
   "outputs": [],
   "source": [
    "#    This implements the list request. There are several versions of the list request that only require email and key.\n",
    "#    This code sets the default action/requests to list the groups or parameter class descriptors. Having those descriptors \n",
    "#    allows one to request the individual (proprietary) 5 digit codes for individual air quality measures by using the\n",
    "#    param request. Some code in later cells will illustrate those requests.\n",
    "#\n",
    "def request_list_info(email_address = None, key = None,\n",
    "                      endpoint_url = API_REQUEST_URL, \n",
    "                      endpoint_action = API_ACTION_LIST_CLASSES, \n",
    "                      request_template = AQS_REQUEST_TEMPLATE,\n",
    "                      headers = None):\n",
    "    \n",
    "    #  Make sure we have email and key - at least\n",
    "    #  This prioritizes the info from the call parameters - not what's already in the template\n",
    "    if email_address:\n",
    "        request_template['email'] = email_address\n",
    "    if key:\n",
    "        request_template['key'] = key\n",
    "    \n",
    "    # For the basic request we need an email address and a key\n",
    "    if not request_template['email']:\n",
    "        raise Exception(\"Must supply an email address to call 'request_list_info()'\")\n",
    "    if not request_template['key']: \n",
    "        raise Exception(\"Must supply a key to call 'request_list_info()'\")\n",
    "\n",
    "    # compose the request\n",
    "    request_url = endpoint_url+endpoint_action.format(**request_template)\n",
    "        \n",
    "    # make the request\n",
    "    try:\n",
    "        # Wait first, to make sure we don't exceed a rate limit in the situation where an exception occurs\n",
    "        # during the request processing - throttling is always a good practice with a free data source\n",
    "        if API_THROTTLE_WAIT > 0.0:\n",
    "            time.sleep(API_THROTTLE_WAIT)\n",
    "        response = requests.get(request_url, headers=headers)\n",
    "        json_response = response.json()\n",
    "    except Exception as e:\n",
    "        print(e)\n",
    "        json_response = None\n",
    "    return json_response\n",
    "\n"
   ]
  },
  {
   "cell_type": "code",
   "execution_count": 17,
   "metadata": {},
   "outputs": [
    {
     "name": "stdout",
     "output_type": "stream",
     "text": [
      "[\n",
      "    {\n",
      "        \"code\": \"AIRNOW MAPS\",\n",
      "        \"value_represented\": \"The parameters represented on AirNow maps (88101, 88502, and 44201)\"\n",
      "    },\n",
      "    {\n",
      "        \"code\": \"ALL\",\n",
      "        \"value_represented\": \"Select all Parameters Available\"\n",
      "    },\n",
      "    {\n",
      "        \"code\": \"AQI POLLUTANTS\",\n",
      "        \"value_represented\": \"Pollutants that have an AQI Defined\"\n",
      "    },\n",
      "    {\n",
      "        \"code\": \"CORE_HAPS\",\n",
      "        \"value_represented\": \"Urban Air Toxic Pollutants\"\n",
      "    },\n",
      "    {\n",
      "        \"code\": \"CRITERIA\",\n",
      "        \"value_represented\": \"Criteria Pollutants\"\n",
      "    },\n",
      "    {\n",
      "        \"code\": \"CSN DART\",\n",
      "        \"value_represented\": \"List of CSN speciation parameters to populate the STI DART tool\"\n",
      "    },\n",
      "    {\n",
      "        \"code\": \"FORECAST\",\n",
      "        \"value_represented\": \"Parameters routinely extracted by AirNow (STI)\"\n",
      "    },\n",
      "    {\n",
      "        \"code\": \"HAPS\",\n",
      "        \"value_represented\": \"Hazardous Air Pollutants\"\n",
      "    },\n",
      "    {\n",
      "        \"code\": \"IMPROVE CARBON\",\n",
      "        \"value_represented\": \"IMPROVE Carbon Parameters\"\n",
      "    },\n",
      "    {\n",
      "        \"code\": \"IMPROVE_SPECIATION\",\n",
      "        \"value_represented\": \"PM2.5 Speciated Parameters Measured at IMPROVE sites\"\n",
      "    },\n",
      "    {\n",
      "        \"code\": \"MET\",\n",
      "        \"value_represented\": \"Meteorological Parameters\"\n",
      "    },\n",
      "    {\n",
      "        \"code\": \"NATTS CORE HAPS\",\n",
      "        \"value_represented\": \"The core list of toxics of interest to the NATTS program.\"\n",
      "    },\n",
      "    {\n",
      "        \"code\": \"NATTS REQUIRED\",\n",
      "        \"value_represented\": \"Required compounds to be collected in the National Air Toxics Network\"\n",
      "    },\n",
      "    {\n",
      "        \"code\": \"PAMS\",\n",
      "        \"value_represented\": \"Photochemical Assessment Monitoring System\"\n",
      "    },\n",
      "    {\n",
      "        \"code\": \"PAMS_VOC\",\n",
      "        \"value_represented\": \"Volatile Organic Compound subset of the PAMS Parameters\"\n",
      "    },\n",
      "    {\n",
      "        \"code\": \"PM COARSE\",\n",
      "        \"value_represented\": \"PM between 2.5 and 10 micrometers\"\n",
      "    },\n",
      "    {\n",
      "        \"code\": \"PM10 SPECIATION\",\n",
      "        \"value_represented\": \"PM10 Speciated Parameters\"\n",
      "    },\n",
      "    {\n",
      "        \"code\": \"PM2.5 CONT NONREF\",\n",
      "        \"value_represented\": \"PM2.5 Continuous, Nonreference Methods\"\n",
      "    },\n",
      "    {\n",
      "        \"code\": \"PM2.5 MASS/QA\",\n",
      "        \"value_represented\": \"PM2.5 Mass and QA Parameters\"\n",
      "    },\n",
      "    {\n",
      "        \"code\": \"SCHOOL AIR TOXICS\",\n",
      "        \"value_represented\": \"School Air Toxics Program Parameters\"\n",
      "    },\n",
      "    {\n",
      "        \"code\": \"SPECIATION\",\n",
      "        \"value_represented\": \"PM2.5 Speciated Parameters\"\n",
      "    },\n",
      "    {\n",
      "        \"code\": \"SPECIATION CARBON\",\n",
      "        \"value_represented\": \"PM2.5 Speciation Carbon Parameters\"\n",
      "    },\n",
      "    {\n",
      "        \"code\": \"SPECIATION CATION/ANION\",\n",
      "        \"value_represented\": \"PM2.5 Speciation Cation/Anion Parameters\"\n",
      "    },\n",
      "    {\n",
      "        \"code\": \"SPECIATION METALS\",\n",
      "        \"value_represented\": \"PM2.5 Speciation Metal Parameters\"\n",
      "    },\n",
      "    {\n",
      "        \"code\": \"UATMP CARBONYL\",\n",
      "        \"value_represented\": \"Urban Air Toxics Monitoring Program Carbonyls\"\n",
      "    },\n",
      "    {\n",
      "        \"code\": \"UATMP VOC\",\n",
      "        \"value_represented\": \"Urban Air Toxics Monitoring Program VOCs\"\n",
      "    },\n",
      "    {\n",
      "        \"code\": \"VOC\",\n",
      "        \"value_represented\": \"Volatile organic compounds\"\n",
      "    }\n",
      "]\n"
     ]
    }
   ],
   "source": [
    "#   The default should get us a list of the various groups or classes of sensors. These classes are user defined names for clustors of\n",
    "#   sensors that might be part of a package or default air quality sensing station. We need a class name to start getting down to the\n",
    "#   a sensor ID. Each sensor type has an ID number. We'll eventually need those ID numbers to be able to request values that come from\n",
    "#   that specific sensor.\n",
    "#\n",
    "request_data = AQS_REQUEST_TEMPLATE.copy()\n",
    "request_data['email'] = USERNAME\n",
    "request_data['key'] = APIKEY\n",
    "\n",
    "response = request_list_info(request_template=request_data)\n",
    "\n",
    "if response[\"Header\"][0]['status'] == \"Success\":\n",
    "    print(json.dumps(response['Data'],indent=4))\n",
    "else:\n",
    "    print(json.dumps(response,indent=4))\n"
   ]
  },
  {
   "cell_type": "markdown",
   "metadata": {},
   "source": [
    "##### We want to extract Air Quality Index (AQI). The AQI is a complex measure of different gasses and of the particles in the air (dust, dirt, ash ...). From the list produced by our 'list/Classes' request above, there is a class of sensors called \"AQI POLLUTANTS\". The code below gets a list of those specific sensors. "
   ]
  },
  {
   "cell_type": "code",
   "execution_count": 18,
   "metadata": {},
   "outputs": [],
   "source": [
    "#   Once we have a list of the classes or groups of possible sensors, we can find the sensor IDs that make up that class (group)\n",
    "#   The one that looks to be associated with the Air Quality Index is \"AQI POLLUTANTS\"\n",
    "#   We'll use that to make another list request.\n",
    "#\n",
    "AQI_PARAM_CLASS = \"AQI POLLUTANTS\""
   ]
  },
  {
   "cell_type": "code",
   "execution_count": 19,
   "metadata": {},
   "outputs": [
    {
     "name": "stdout",
     "output_type": "stream",
     "text": [
      "[\n",
      "    {\n",
      "        \"code\": \"42101\",\n",
      "        \"value_represented\": \"Carbon monoxide\"\n",
      "    },\n",
      "    {\n",
      "        \"code\": \"42401\",\n",
      "        \"value_represented\": \"Sulfur dioxide\"\n",
      "    },\n",
      "    {\n",
      "        \"code\": \"42602\",\n",
      "        \"value_represented\": \"Nitrogen dioxide (NO2)\"\n",
      "    },\n",
      "    {\n",
      "        \"code\": \"44201\",\n",
      "        \"value_represented\": \"Ozone\"\n",
      "    },\n",
      "    {\n",
      "        \"code\": \"81102\",\n",
      "        \"value_represented\": \"PM10 Total 0-10um STP\"\n",
      "    },\n",
      "    {\n",
      "        \"code\": \"88101\",\n",
      "        \"value_represented\": \"PM2.5 - Local Conditions\"\n",
      "    },\n",
      "    {\n",
      "        \"code\": \"88502\",\n",
      "        \"value_represented\": \"Acceptable PM2.5 AQI & Speciation Mass\"\n",
      "    }\n",
      "]\n"
     ]
    }
   ],
   "source": [
    "#   Structure a request to get the sensor IDs associated with the AQI\n",
    "#\n",
    "request_data = AQS_REQUEST_TEMPLATE.copy()\n",
    "request_data['email'] = USERNAME\n",
    "request_data['key'] = APIKEY\n",
    "request_data['pclass'] = AQI_PARAM_CLASS  # here we specify that we want this 'pclass' or parameter classs\n",
    "\n",
    "response = request_list_info(request_template=request_data, endpoint_action=API_ACTION_LIST_PARAMS)\n",
    "\n",
    "if response[\"Header\"][0]['status'] == \"Success\":\n",
    "    print(json.dumps(response['Data'],indent=4))\n",
    "else:\n",
    "    print(json.dumps(response,indent=4))"
   ]
  },
  {
   "cell_type": "markdown",
   "metadata": {},
   "source": [
    "##### We now have a set of sensor ID numbers. The list should include the sensor numbers as well as a description or name for each sensor. \n",
    "\n",
    "##### The EPA AQS API has limits on some call parameters. Specifically, when we request data for sensors we can only specify a maximum of 5 different sensor values to return. This means we cannot get all of the Air Quality Index parameters in one request for data. We break it up into two logical groups, the AQI sensors that sample gasses and the AQI sensors that sample particles in the air."
   ]
  },
  {
   "cell_type": "code",
   "execution_count": 20,
   "metadata": {},
   "outputs": [],
   "source": [
    "#   Given the set of sensor codes, now we can create a parameter list or 'param' value as defined by the AQS API spec.\n",
    "#   It turns out that we want all of these measures for AQI, but we need to have two different param constants to get\n",
    "#   all seven of the code types. We can only have a max of 5 sensors/values request per param.\n",
    "#\n",
    "#   Gaseous AQI pollutants CO, SO2, NO2, and O2\n",
    "AQI_PARAMS_GASEOUS = \"42101,42401,42602,44201\"\n",
    "#\n",
    "#   Particulate AQI pollutants PM10, PM2.5, and Acceptable PM2.5\n",
    "AQI_PARAMS_PARTICULATES = \"81102,88101,88502\"\n",
    "#   \n",
    "#"
   ]
  },
  {
   "cell_type": "markdown",
   "metadata": {},
   "source": [
    "##### Air quality monitoring stations are located all over the US at different locations. We extract the ones near Gillette, Wyoming using the [FIPS](https://www.census.gov/library/reference/code-lists/ansi.html) code."
   ]
  },
  {
   "cell_type": "code",
   "execution_count": 22,
   "metadata": {},
   "outputs": [],
   "source": [
    "CITY_LOCATIONS = {\n",
    "    'gillette' :       {'city'   : 'Gillette',\n",
    "                       'county' : 'Campbell',\n",
    "                       'state'  : 'Wyoming',\n",
    "                       'fips'   : '56005',\n",
    "                       'latlon' : [44.2911, -105.5022] }\n",
    "}"
   ]
  },
  {
   "cell_type": "markdown",
   "metadata": {},
   "source": [
    "##### We now find monitoring locations that are nearby by getting the EPA to list their monitoring stations near Campbell County where Gillette is located."
   ]
  },
  {
   "cell_type": "code",
   "execution_count": 23,
   "metadata": {},
   "outputs": [
    {
     "name": "stdout",
     "output_type": "stream",
     "text": [
      "[\n",
      "    {\n",
      "        \"code\": \"0001\",\n",
      "        \"value_represented\": null\n",
      "    },\n",
      "    {\n",
      "        \"code\": \"0002\",\n",
      "        \"value_represented\": null\n",
      "    },\n",
      "    {\n",
      "        \"code\": \"0003\",\n",
      "        \"value_represented\": null\n",
      "    },\n",
      "    {\n",
      "        \"code\": \"0004\",\n",
      "        \"value_represented\": null\n",
      "    },\n",
      "    {\n",
      "        \"code\": \"0005\",\n",
      "        \"value_represented\": null\n",
      "    },\n",
      "    {\n",
      "        \"code\": \"0006\",\n",
      "        \"value_represented\": \"Black Thunder BTM-7\"\n",
      "    },\n",
      "    {\n",
      "        \"code\": \"0007\",\n",
      "        \"value_represented\": null\n",
      "    },\n",
      "    {\n",
      "        \"code\": \"0008\",\n",
      "        \"value_represented\": null\n",
      "    },\n",
      "    {\n",
      "        \"code\": \"0009\",\n",
      "        \"value_represented\": null\n",
      "    },\n",
      "    {\n",
      "        \"code\": \"0010\",\n",
      "        \"value_represented\": null\n",
      "    },\n",
      "    {\n",
      "        \"code\": \"0011\",\n",
      "        \"value_represented\": \"Hilight-Reno Junction Gas Plant\"\n",
      "    },\n",
      "    {\n",
      "        \"code\": \"0012\",\n",
      "        \"value_represented\": \"Fortification Creek (WARMS site)\"\n",
      "    },\n",
      "    {\n",
      "        \"code\": \"0013\",\n",
      "        \"value_represented\": \"NARM NA-9\"\n",
      "    },\n",
      "    {\n",
      "        \"code\": \"0014\",\n",
      "        \"value_represented\": \"Black Thunder Site 6\"\n",
      "    },\n",
      "    {\n",
      "        \"code\": \"0015\",\n",
      "        \"value_represented\": \"Black Thunder Site 15\"\n",
      "    },\n",
      "    {\n",
      "        \"code\": \"0016\",\n",
      "        \"value_represented\": \"Dry Fork Mine Meteorological Station\"\n",
      "    },\n",
      "    {\n",
      "        \"code\": \"0017\",\n",
      "        \"value_represented\": \"Buckskin West\"\n",
      "    },\n",
      "    {\n",
      "        \"code\": \"0084\",\n",
      "        \"value_represented\": \"School Creek SC-1\"\n",
      "    },\n",
      "    {\n",
      "        \"code\": \"0085\",\n",
      "        \"value_represented\": \"School Creek Meteorological Station\"\n",
      "    },\n",
      "    {\n",
      "        \"code\": \"0086\",\n",
      "        \"value_represented\": \"School Creek SC-3\"\n",
      "    },\n",
      "    {\n",
      "        \"code\": \"0087\",\n",
      "        \"value_represented\": \"School Creek SC-2\"\n",
      "    },\n",
      "    {\n",
      "        \"code\": \"0088\",\n",
      "        \"value_represented\": null\n",
      "    },\n",
      "    {\n",
      "        \"code\": \"0099\",\n",
      "        \"value_represented\": \"Wright\"\n",
      "    },\n",
      "    {\n",
      "        \"code\": \"0100\",\n",
      "        \"value_represented\": \"MET STATION FOR WYODAK LOCATED AT MINE OFFICE\"\n",
      "    },\n",
      "    {\n",
      "        \"code\": \"0101\",\n",
      "        \"value_represented\": \"JACOBS RANCH MET SITE LOCATED AT MINE OFFICE.\"\n",
      "    },\n",
      "    {\n",
      "        \"code\": \"0123\",\n",
      "        \"value_represented\": \"Thunder Basin\"\n",
      "    },\n",
      "    {\n",
      "        \"code\": \"0303\",\n",
      "        \"value_represented\": \"Coal Creek Site 3\"\n",
      "    },\n",
      "    {\n",
      "        \"code\": \"0456\",\n",
      "        \"value_represented\": \"Campbell County\"\n",
      "    },\n",
      "    {\n",
      "        \"code\": \"0789\",\n",
      "        \"value_represented\": \"Tracy Ranch\"\n",
      "    },\n",
      "    {\n",
      "        \"code\": \"0800\",\n",
      "        \"value_represented\": \"Gillette Mobile\"\n",
      "    },\n",
      "    {\n",
      "        \"code\": \"0802\",\n",
      "        \"value_represented\": \"1 Site (Met Station and Hi-Vols BA1 and BA1-B)\"\n",
      "    },\n",
      "    {\n",
      "        \"code\": \"0805\",\n",
      "        \"value_represented\": null\n",
      "    },\n",
      "    {\n",
      "        \"code\": \"0808\",\n",
      "        \"value_represented\": \"Eagle Butte EB-3\"\n",
      "    },\n",
      "    {\n",
      "        \"code\": \"0809\",\n",
      "        \"value_represented\": null\n",
      "    },\n",
      "    {\n",
      "        \"code\": \"0811\",\n",
      "        \"value_represented\": null\n",
      "    },\n",
      "    {\n",
      "        \"code\": \"0813\",\n",
      "        \"value_represented\": null\n",
      "    },\n",
      "    {\n",
      "        \"code\": \"0819\",\n",
      "        \"value_represented\": null\n",
      "    },\n",
      "    {\n",
      "        \"code\": \"0824\",\n",
      "        \"value_represented\": null\n",
      "    },\n",
      "    {\n",
      "        \"code\": \"0825\",\n",
      "        \"value_represented\": null\n",
      "    },\n",
      "    {\n",
      "        \"code\": \"0826\",\n",
      "        \"value_represented\": \"Rawhide Hilltop Site\"\n",
      "    },\n",
      "    {\n",
      "        \"code\": \"0840\",\n",
      "        \"value_represented\": null\n",
      "    },\n",
      "    {\n",
      "        \"code\": \"0841\",\n",
      "        \"value_represented\": \"Coal Creek Site 7\"\n",
      "    },\n",
      "    {\n",
      "        \"code\": \"0842\",\n",
      "        \"value_represented\": null\n",
      "    },\n",
      "    {\n",
      "        \"code\": \"0844\",\n",
      "        \"value_represented\": null\n",
      "    },\n",
      "    {\n",
      "        \"code\": \"0846\",\n",
      "        \"value_represented\": null\n",
      "    },\n",
      "    {\n",
      "        \"code\": \"0857\",\n",
      "        \"value_represented\": \"Black Hills Power Site 4\"\n",
      "    },\n",
      "    {\n",
      "        \"code\": \"0858\",\n",
      "        \"value_represented\": null\n",
      "    },\n",
      "    {\n",
      "        \"code\": \"0865\",\n",
      "        \"value_represented\": \"SITE WAS SHUT DOWN AND RELOCATED TO A NEW LOCATION APPROXIMATELY 2\"\n",
      "    },\n",
      "    {\n",
      "        \"code\": \"0868\",\n",
      "        \"value_represented\": null\n",
      "    },\n",
      "    {\n",
      "        \"code\": \"0869\",\n",
      "        \"value_represented\": \"NARM RO-1\"\n",
      "    },\n",
      "    {\n",
      "        \"code\": \"0870\",\n",
      "        \"value_represented\": null\n",
      "    },\n",
      "    {\n",
      "        \"code\": \"0871\",\n",
      "        \"value_represented\": null\n",
      "    },\n",
      "    {\n",
      "        \"code\": \"0872\",\n",
      "        \"value_represented\": null\n",
      "    },\n",
      "    {\n",
      "        \"code\": \"0873\",\n",
      "        \"value_represented\": null\n",
      "    },\n",
      "    {\n",
      "        \"code\": \"0874\",\n",
      "        \"value_represented\": null\n",
      "    },\n",
      "    {\n",
      "        \"code\": \"0875\",\n",
      "        \"value_represented\": \"Black Thunder Mine Site 3\"\n",
      "    },\n",
      "    {\n",
      "        \"code\": \"0877\",\n",
      "        \"value_represented\": null\n",
      "    },\n",
      "    {\n",
      "        \"code\": \"0878\",\n",
      "        \"value_represented\": null\n",
      "    },\n",
      "    {\n",
      "        \"code\": \"0879\",\n",
      "        \"value_represented\": \"Dry Fork Site DF-1 Meteorological Station\"\n",
      "    },\n",
      "    {\n",
      "        \"code\": \"0880\",\n",
      "        \"value_represented\": null\n",
      "    },\n",
      "    {\n",
      "        \"code\": \"0882\",\n",
      "        \"value_represented\": null\n",
      "    },\n",
      "    {\n",
      "        \"code\": \"0883\",\n",
      "        \"value_represented\": null\n",
      "    },\n",
      "    {\n",
      "        \"code\": \"0884\",\n",
      "        \"value_represented\": \"Buckskin West\"\n",
      "    },\n",
      "    {\n",
      "        \"code\": \"0885\",\n",
      "        \"value_represented\": \"Cordero Rojo Site E-10\"\n",
      "    },\n",
      "    {\n",
      "        \"code\": \"0886\",\n",
      "        \"value_represented\": \"Caballo Mine CB-8\"\n",
      "    },\n",
      "    {\n",
      "        \"code\": \"0887\",\n",
      "        \"value_represented\": \"Eagle Butte EB-1\"\n",
      "    },\n",
      "    {\n",
      "        \"code\": \"0888\",\n",
      "        \"value_represented\": \"Cordero HV-1\"\n",
      "    },\n",
      "    {\n",
      "        \"code\": \"0889\",\n",
      "        \"value_represented\": \"CORDERO HV-3/PM-3\"\n",
      "    },\n",
      "    {\n",
      "        \"code\": \"0890\",\n",
      "        \"value_represented\": \"Coal Creek Site 26\"\n",
      "    },\n",
      "    {\n",
      "        \"code\": \"0891\",\n",
      "        \"value_represented\": \"Black Thunder BTM 36-2\"\n",
      "    },\n",
      "    {\n",
      "        \"code\": \"0892\",\n",
      "        \"value_represented\": \"Belle Ayr BA-4\"\n",
      "    },\n",
      "    {\n",
      "        \"code\": \"0893\",\n",
      "        \"value_represented\": \"Belle Ayr BA-3\"\n",
      "    },\n",
      "    {\n",
      "        \"code\": \"0894\",\n",
      "        \"value_represented\": \"JACOBS RANCH SITE 4\"\n",
      "    },\n",
      "    {\n",
      "        \"code\": \"0895\",\n",
      "        \"value_represented\": \"Rawhide North Site\"\n",
      "    },\n",
      "    {\n",
      "        \"code\": \"0896\",\n",
      "        \"value_represented\": \"DRY FORK SITE DF-3N AND DF-3S\"\n",
      "    },\n",
      "    {\n",
      "        \"code\": \"0897\",\n",
      "        \"value_represented\": \"Dry Fork Site DF-4\"\n",
      "    },\n",
      "    {\n",
      "        \"code\": \"0898\",\n",
      "        \"value_represented\": \"Belle Ayr Ranch House Monitor\"\n",
      "    },\n",
      "    {\n",
      "        \"code\": \"0899\",\n",
      "        \"value_represented\": \"BUCKSKIN MINE NORTH SITE\"\n",
      "    },\n",
      "    {\n",
      "        \"code\": \"0900\",\n",
      "        \"value_represented\": \"AMAX EAGLE BUTTE SITE EB-5 SOUTHEAST OF MINING ACTIVITY\"\n",
      "    },\n",
      "    {\n",
      "        \"code\": \"0901\",\n",
      "        \"value_represented\": \"CLOVIS POINT MINE SITE CP-1\"\n",
      "    },\n",
      "    {\n",
      "        \"code\": \"0902\",\n",
      "        \"value_represented\": \"CLOVIS POINT SITE CP-2\"\n",
      "    },\n",
      "    {\n",
      "        \"code\": \"0903\",\n",
      "        \"value_represented\": \"KERR-MCGEE CLOVIS POINT MINE SITE CP-3\"\n",
      "    },\n",
      "    {\n",
      "        \"code\": \"0904\",\n",
      "        \"value_represented\": \"CLOVIS POINT MINE SITE EFG-1\"\n",
      "    },\n",
      "    {\n",
      "        \"code\": \"0905\",\n",
      "        \"value_represented\": \"JRM-5 SITE\"\n",
      "    },\n",
      "    {\n",
      "        \"code\": \"0906\",\n",
      "        \"value_represented\": \"RELOCATED AMAX EAGLE BUTTE MINE SITE - 2. 1.5 MI WEST OLD LOCATION.\"\n",
      "    },\n",
      "    {\n",
      "        \"code\": \"0907\",\n",
      "        \"value_represented\": \"Black Thunder Site 12\"\n",
      "    },\n",
      "    {\n",
      "        \"code\": \"0908\",\n",
      "        \"value_represented\": \"Caballo Mine Site CB-9\"\n",
      "    },\n",
      "    {\n",
      "        \"code\": \"0910\",\n",
      "        \"value_represented\": \"RELOCATED NA-6 SITE.  APPROXIMATELY 2 MILES OF SITE 865.\"\n",
      "    },\n",
      "    {\n",
      "        \"code\": \"0915\",\n",
      "        \"value_represented\": \"NEW PM10 SITE KNOWN AS BTM 31-1 ACTIVE 10-00\"\n",
      "    },\n",
      "    {\n",
      "        \"code\": \"0916\",\n",
      "        \"value_represented\": null\n",
      "    },\n",
      "    {\n",
      "        \"code\": \"0917\",\n",
      "        \"value_represented\": null\n",
      "    },\n",
      "    {\n",
      "        \"code\": \"1000\",\n",
      "        \"value_represented\": null\n",
      "    },\n",
      "    {\n",
      "        \"code\": \"1001\",\n",
      "        \"value_represented\": null\n",
      "    },\n",
      "    {\n",
      "        \"code\": \"1002\",\n",
      "        \"value_represented\": \"Gillette SLAMS site\"\n",
      "    },\n",
      "    {\n",
      "        \"code\": \"1003\",\n",
      "        \"value_represented\": \"Cordero Rojo Site W-11\"\n",
      "    },\n",
      "    {\n",
      "        \"code\": \"1009\",\n",
      "        \"value_represented\": \"Cordero Rojo Site S-11\"\n",
      "    },\n",
      "    {\n",
      "        \"code\": \"1110\",\n",
      "        \"value_represented\": \"Anadarko Spotted Horse Met Station\"\n",
      "    },\n",
      "    {\n",
      "        \"code\": \"1111\",\n",
      "        \"value_represented\": \"NARM Meteorological Station\"\n",
      "    },\n",
      "    {\n",
      "        \"code\": \"1112\",\n",
      "        \"value_represented\": \"Coal Creek Mine Meteorological Station\"\n",
      "    },\n",
      "    {\n",
      "        \"code\": \"1115\",\n",
      "        \"value_represented\": \"Black Thunder Admin Met Station\"\n",
      "    },\n",
      "    {\n",
      "        \"code\": \"1877\",\n",
      "        \"value_represented\": \"Black Thunder Sites 25-3, 25-4, and 25-5\"\n",
      "    },\n",
      "    {\n",
      "        \"code\": \"1879\",\n",
      "        \"value_represented\": \"Dry Fork Site DF-2\"\n",
      "    },\n",
      "    {\n",
      "        \"code\": \"1895\",\n",
      "        \"value_represented\": \"Rawhide Meteorological Site\"\n",
      "    },\n",
      "    {\n",
      "        \"code\": \"1896\",\n",
      "        \"value_represented\": \"Dry Fork Site DF-3\"\n",
      "    },\n",
      "    {\n",
      "        \"code\": \"1899\",\n",
      "        \"value_represented\": \"Buckskin Mine North Site & PRB-PM2.5 Network\"\n",
      "    },\n",
      "    {\n",
      "        \"code\": \"1900\",\n",
      "        \"value_represented\": \"NARM NA-7\"\n",
      "    },\n",
      "    {\n",
      "        \"code\": \"1906\",\n",
      "        \"value_represented\": \"RELOCATED AMAX EAGLE BUTTE MINE SITE - 2. 1.5 MI WEST OLD LOCATION.\"\n",
      "    },\n",
      "    {\n",
      "        \"code\": \"1915\",\n",
      "        \"value_represented\": \"NEW PM10 SITE KNOWN AS BTM 31-1 ACTIVE 10-00\"\n",
      "    },\n",
      "    {\n",
      "        \"code\": \"1917\",\n",
      "        \"value_represented\": \"Black Thunder Mine JR5\"\n",
      "    },\n",
      "    {\n",
      "        \"code\": \"2841\",\n",
      "        \"value_represented\": null\n",
      "    },\n",
      "    {\n",
      "        \"code\": \"2900\",\n",
      "        \"value_represented\": \"Eagle Butte EB-5\"\n",
      "    },\n",
      "    {\n",
      "        \"code\": \"2901\",\n",
      "        \"value_represented\": \"Eagle Butte-Rawhide School Monitor\"\n",
      "    },\n",
      "    {\n",
      "        \"code\": \"2908\",\n",
      "        \"value_represented\": \"Caballo Mine Meteorological Station\"\n",
      "    },\n",
      "    {\n",
      "        \"code\": \"2909\",\n",
      "        \"value_represented\": \"Cordero Rojo Met. Station\"\n",
      "    },\n",
      "    {\n",
      "        \"code\": \"5555\",\n",
      "        \"value_represented\": \"Wyodak Site 5\"\n",
      "    },\n",
      "    {\n",
      "        \"code\": \"6666\",\n",
      "        \"value_represented\": \"Wyodak Site 6\"\n",
      "    }\n",
      "]\n"
     ]
    }
   ],
   "source": [
    "#\n",
    "#  This list request should give us a list of all the monitoring stations in the county specified by the\n",
    "#  given city selected from the CITY_LOCATIONS dictionary\n",
    "#\n",
    "request_data = AQS_REQUEST_TEMPLATE.copy()\n",
    "request_data['email'] = USERNAME\n",
    "request_data['key'] = APIKEY\n",
    "request_data['state'] = CITY_LOCATIONS['gillette']['fips'][:2]   # the first two digits (characters) of FIPS is the state code\n",
    "request_data['county'] = CITY_LOCATIONS['gillette']['fips'][2:]  # the last three digits (characters) of FIPS is the county code\n",
    "\n",
    "response = request_list_info(request_template=request_data, endpoint_action=API_ACTION_LIST_SITES)\n",
    "\n",
    "if response[\"Header\"][0]['status'] == \"Success\":\n",
    "    print(json.dumps(response['Data'],indent=4))\n",
    "else:\n",
    "    print(json.dumps(response,indent=4))\n"
   ]
  },
  {
   "cell_type": "markdown",
   "metadata": {},
   "source": [
    "##### The above response gives us a list of monitoring stations. Each monitoring station has a unique \"code\" which is a string number, and, sometimes, a description. The description seems to be something about where the monitoring station is located.\n"
   ]
  },
  {
   "cell_type": "markdown",
   "metadata": {},
   "source": [
    "#### Step 2.3. Making a daily summary request\n",
    "\n",
    "##### The function below is encapsulates requests to the EPA AQS API. When calling the function one should create/copy a parameter template, then initialize that template with values that won't change with each call. Then on each call simply pass in the parameters that need to change, like date ranges.\n",
    "\n",
    "##### Another function below provides an example of extracting values and restructuring the response to make it a little more usable."
   ]
  },
  {
   "cell_type": "code",
   "execution_count": 24,
   "metadata": {},
   "outputs": [],
   "source": [
    "#\n",
    "#    This implements the daily summary request. Daily summary provides a daily summary value for each sensor being requested\n",
    "#    from the start date to the end date. \n",
    "#\n",
    "#    Like the two other functions, this can be called with a mixture of a defined parameter dictionary, or with function\n",
    "#    parameters. If function parameters are provided, those take precedence over any parameters from the request template.\n",
    "#\n",
    "def request_daily_summary(email_address = None, key = None, param=None,\n",
    "                          begin_date = None, end_date = None, fips = None,\n",
    "                          endpoint_url = API_REQUEST_URL, \n",
    "                          endpoint_action = API_ACTION_DAILY_SUMMARY_COUNTY, \n",
    "                          request_template = AQS_REQUEST_TEMPLATE,\n",
    "                          headers = None):\n",
    "    \n",
    "    #  This prioritizes the info from the call parameters - not what's already in the template\n",
    "    if email_address:\n",
    "        request_template['email'] = email_address\n",
    "    if key:\n",
    "        request_template['key'] = key\n",
    "    if param:\n",
    "        request_template['param'] = param\n",
    "    if begin_date:\n",
    "        request_template['begin_date'] = begin_date\n",
    "    if end_date:\n",
    "        request_template['end_date'] = end_date\n",
    "    if fips and len(fips)==5:\n",
    "        request_template['state'] = fips[:2]\n",
    "        request_template['county'] = fips[2:]            \n",
    "\n",
    "    # Make sure there are values that allow us to make a call - these are always required\n",
    "    if not request_template['email']:\n",
    "        raise Exception(\"Must supply an email address to call 'request_daily_summary()'\")\n",
    "    if not request_template['key']: \n",
    "        raise Exception(\"Must supply a key to call 'request_daily_summary()'\")\n",
    "    if not request_template['param']: \n",
    "        raise Exception(\"Must supply param values to call 'request_daily_summary()'\")\n",
    "    if not request_template['begin_date']: \n",
    "        raise Exception(\"Must supply a begin_date to call 'request_daily_summary()'\")\n",
    "    if not request_template['end_date']: \n",
    "        raise Exception(\"Must supply an end_date to call 'request_daily_summary()'\")\n",
    "    # Note we're not validating FIPS fields because not all of the daily summary actions require the FIPS numbers\n",
    "        \n",
    "    # compose the request\n",
    "    request_url = endpoint_url+endpoint_action.format(**request_template)\n",
    "        \n",
    "    # make the request\n",
    "    try:\n",
    "        # Wait first, to make sure we don't exceed a rate limit in the situation where an exception occurs\n",
    "        # during the request processing - throttling is always a good practice with a free data source\n",
    "        if API_THROTTLE_WAIT > 0.0:\n",
    "            time.sleep(API_THROTTLE_WAIT)\n",
    "        response = requests.get(request_url, headers=headers)\n",
    "        json_response = response.json()\n",
    "    except Exception as e:\n",
    "        print(e)\n",
    "        json_response = None\n",
    "    return json_response\n",
    "\n"
   ]
  },
  {
   "cell_type": "markdown",
   "metadata": {},
   "source": [
    "##### The function below takes the response and a set of fields that should be extracted for their data values.The function creates a summary for each monitoring site."
   ]
  },
  {
   "cell_type": "code",
   "execution_count": 25,
   "metadata": {},
   "outputs": [],
   "source": [
    "#\n",
    "#    This is a list of field names - data - that will be extracted from each record\n",
    "#\n",
    "EXTRACTION_FIELDS = ['sample_duration','observation_count','arithmetic_mean','aqi']\n",
    "\n",
    "#\n",
    "#    The function creates a summary record\n",
    "def extract_summary_from_response(r=None, fields=EXTRACTION_FIELDS):\n",
    "    ## the result will be structured around monitoring site, parameter, and then date\n",
    "    result = dict()\n",
    "    data = r[\"Data\"]\n",
    "    for record in data:\n",
    "        # make sure the record is set up\n",
    "        site = record['site_number']\n",
    "        param = record['parameter_code']\n",
    "        #date = record['date_local']    # this version keeps the respnse value YYYY-\n",
    "        date = record['date_local'].replace('-','') # this puts it in YYYYMMDD format\n",
    "        if site not in result:\n",
    "            result[site] = dict()\n",
    "            result[site]['local_site_name'] = record['local_site_name']\n",
    "            result[site]['site_address'] = record['site_address']\n",
    "            result[site]['state'] = record['state']\n",
    "            result[site]['county'] = record['county']\n",
    "            result[site]['city'] = record['city']\n",
    "            result[site]['pollutant_type'] = dict()\n",
    "        if param not in result[site]['pollutant_type']:\n",
    "            result[site]['pollutant_type'][param] = dict()\n",
    "            result[site]['pollutant_type'][param]['parameter_name'] = record['parameter']\n",
    "            result[site]['pollutant_type'][param]['units_of_measure'] = record['units_of_measure']\n",
    "            result[site]['pollutant_type'][param]['method'] = record['method']\n",
    "            result[site]['pollutant_type'][param]['data'] = dict()\n",
    "        if date not in result[site]['pollutant_type'][param]['data']:\n",
    "            result[site]['pollutant_type'][param]['data'][date] = list()\n",
    "        \n",
    "        # now extract the specified fields\n",
    "        extract = dict()\n",
    "        for k in fields:\n",
    "            if str(k) in record:\n",
    "                extract[str(k)] = record[k]\n",
    "            else:\n",
    "                # this makes sure we always have the requested fields, even if\n",
    "                # we have a missing value for a given day/month\n",
    "                extract[str(k)] = None\n",
    "        \n",
    "        # add this extraction to the list for the day\n",
    "        result[site]['pollutant_type'][param]['data'][date].append(extract)\n",
    "    \n",
    "    return result\n"
   ]
  },
  {
   "cell_type": "markdown",
   "metadata": {},
   "source": [
    "#### Step 2.4. Extracting AQI data from the summary\n",
    "\n",
    "##### The code below defines a function that retrieves daily air quality summary data for gaseous and particulate pollutants for a specified range of years (from start_year to end_year). It uses a request template to fetch data for each year and stores the data in separate lists (yearly_gaseous_data and yearly_particulate_data). The function also checks the response status for each request, extracts and appends the summary data to the respective lists, and prints a message if no data is available or if there's an issue with the request. This allows the code to gather air quality data for multiple years, facilitating further analysis and processing of the data."
   ]
  },
  {
   "cell_type": "code",
   "execution_count": 26,
   "metadata": {},
   "outputs": [],
   "source": [
    "request_data = AQS_REQUEST_TEMPLATE.copy()\n",
    "request_data['email'] = USERNAME\n",
    "request_data['key'] = APIKEY\n",
    "request_data['param'] = AQI_PARAMS_GASEOUS\n",
    "request_data['state'] = CITY_LOCATIONS['gillette']['fips'][:2]\n",
    "request_data['county'] = CITY_LOCATIONS['gillette']['fips'][2:]"
   ]
  },
  {
   "cell_type": "code",
   "execution_count": 27,
   "metadata": {},
   "outputs": [
    {
     "name": "stdout",
     "output_type": "stream",
     "text": [
      "Response for the gaseous pollutants for 19740101 ...\n",
      "Response for the particulate pollutants for 19740101 ...\n",
      "No data generated\n",
      "Response for the gaseous pollutants for 19750101 ...\n",
      "Response for the particulate pollutants for 19750101 ...\n",
      "No data generated\n",
      "Response for the gaseous pollutants for 19760101 ...\n",
      "Response for the particulate pollutants for 19760101 ...\n",
      "No data generated\n",
      "Response for the gaseous pollutants for 19770101 ...\n",
      "Response for the particulate pollutants for 19770101 ...\n",
      "No data generated\n",
      "Response for the gaseous pollutants for 19780101 ...\n",
      "Response for the particulate pollutants for 19780101 ...\n",
      "No data generated\n",
      "Response for the gaseous pollutants for 19790101 ...\n",
      "Response for the particulate pollutants for 19790101 ...\n",
      "No data generated\n",
      "Response for the gaseous pollutants for 19800101 ...\n",
      "Response for the particulate pollutants for 19800101 ...\n",
      "No data generated\n",
      "Response for the gaseous pollutants for 19810101 ...\n",
      "Response for the particulate pollutants for 19810101 ...\n",
      "No data generated\n",
      "Response for the gaseous pollutants for 19820101 ...\n",
      "Response for the particulate pollutants for 19820101 ...\n",
      "No data generated\n",
      "Response for the gaseous pollutants for 19830101 ...\n",
      "Response for the particulate pollutants for 19830101 ...\n",
      "No data generated\n",
      "Response for the gaseous pollutants for 19840101 ...\n",
      "No data generated\n",
      "Response for the particulate pollutants for 19840101 ...\n",
      "No data generated\n",
      "Response for the gaseous pollutants for 19850101 ...\n",
      "No data generated\n",
      "Response for the particulate pollutants for 19850101 ...\n",
      "Response for the gaseous pollutants for 19860101 ...\n",
      "No data generated\n",
      "Response for the particulate pollutants for 19860101 ...\n",
      "Response for the gaseous pollutants for 19870101 ...\n",
      "No data generated\n",
      "Response for the particulate pollutants for 19870101 ...\n",
      "Response for the gaseous pollutants for 19880101 ...\n",
      "No data generated\n",
      "Response for the particulate pollutants for 19880101 ...\n",
      "No data generated\n",
      "Response for the gaseous pollutants for 19890101 ...\n",
      "No data generated\n",
      "Response for the particulate pollutants for 19890101 ...\n",
      "No data generated\n",
      "Response for the gaseous pollutants for 19900101 ...\n",
      "No data generated\n",
      "Response for the particulate pollutants for 19900101 ...\n",
      "No data generated\n",
      "Response for the gaseous pollutants for 19910101 ...\n",
      "No data generated\n",
      "Response for the particulate pollutants for 19910101 ...\n",
      "Response for the gaseous pollutants for 19920101 ...\n",
      "No data generated\n",
      "Response for the particulate pollutants for 19920101 ...\n",
      "Response for the gaseous pollutants for 19930101 ...\n",
      "No data generated\n",
      "Response for the particulate pollutants for 19930101 ...\n",
      "Response for the gaseous pollutants for 19940101 ...\n",
      "No data generated\n",
      "Response for the particulate pollutants for 19940101 ...\n",
      "Response for the gaseous pollutants for 19950101 ...\n",
      "No data generated\n",
      "Response for the particulate pollutants for 19950101 ...\n",
      "Response for the gaseous pollutants for 19960101 ...\n",
      "No data generated\n",
      "Response for the particulate pollutants for 19960101 ...\n",
      "Response for the gaseous pollutants for 19970101 ...\n",
      "No data generated\n",
      "Response for the particulate pollutants for 19970101 ...\n",
      "Response for the gaseous pollutants for 19980101 ...\n",
      "No data generated\n",
      "Response for the particulate pollutants for 19980101 ...\n",
      "Response for the gaseous pollutants for 19990101 ...\n",
      "No data generated\n",
      "Response for the particulate pollutants for 19990101 ...\n",
      "Response for the gaseous pollutants for 20000101 ...\n",
      "No data generated\n",
      "Response for the particulate pollutants for 20000101 ...\n",
      "Response for the gaseous pollutants for 20010101 ...\n",
      "Response for the particulate pollutants for 20010101 ...\n",
      "Response for the gaseous pollutants for 20020101 ...\n",
      "Response for the particulate pollutants for 20020101 ...\n",
      "Response for the gaseous pollutants for 20030101 ...\n",
      "Response for the particulate pollutants for 20030101 ...\n",
      "Response for the gaseous pollutants for 20040101 ...\n",
      "Response for the particulate pollutants for 20040101 ...\n",
      "Response for the gaseous pollutants for 20050101 ...\n",
      "Response for the particulate pollutants for 20050101 ...\n",
      "Response for the gaseous pollutants for 20060101 ...\n",
      "Response for the particulate pollutants for 20060101 ...\n",
      "Response for the gaseous pollutants for 20070101 ...\n",
      "Response for the particulate pollutants for 20070101 ...\n",
      "Response for the gaseous pollutants for 20080101 ...\n",
      "Response for the particulate pollutants for 20080101 ...\n",
      "Response for the gaseous pollutants for 20090101 ...\n",
      "Response for the particulate pollutants for 20090101 ...\n",
      "Response for the gaseous pollutants for 20100101 ...\n",
      "Response for the particulate pollutants for 20100101 ...\n",
      "Response for the gaseous pollutants for 20110101 ...\n",
      "Response for the particulate pollutants for 20110101 ...\n",
      "Response for the gaseous pollutants for 20120101 ...\n",
      "Response for the particulate pollutants for 20120101 ...\n",
      "Response for the gaseous pollutants for 20130101 ...\n",
      "Response for the particulate pollutants for 20130101 ...\n",
      "Response for the gaseous pollutants for 20140101 ...\n",
      "Response for the particulate pollutants for 20140101 ...\n",
      "Response for the gaseous pollutants for 20150101 ...\n",
      "Response for the particulate pollutants for 20150101 ...\n",
      "Response for the gaseous pollutants for 20160101 ...\n",
      "Response for the particulate pollutants for 20160101 ...\n",
      "Response for the gaseous pollutants for 20170101 ...\n",
      "Response for the particulate pollutants for 20170101 ...\n",
      "Response for the gaseous pollutants for 20180101 ...\n",
      "Response for the particulate pollutants for 20180101 ...\n",
      "Response for the gaseous pollutants for 20190101 ...\n",
      "Response for the particulate pollutants for 20190101 ...\n",
      "Response for the gaseous pollutants for 20200101 ...\n",
      "Response for the particulate pollutants for 20200101 ...\n"
     ]
    }
   ],
   "source": [
    "# Define the start and end years\n",
    "start_year = 1974 #checked and data for the county starts from 1974 so starting from there.\n",
    "end_year = 2020 #fire data ends in 2020 so not extracting AQI beyond that. \n",
    "\n",
    "# Create an empty list to store the data for each year\n",
    "yearly_gaseous_data = []\n",
    "yearly_particulate_data = []\n",
    "\n",
    "for year in range(start_year, end_year + 1):\n",
    "    # Define the start and end dates for the current year\n",
    "    start_date = datetime.date(year, 1, 1)\n",
    "    enddate = datetime.date(year, 12, 31)\n",
    "\n",
    "    # Convert the start and end dates to the required format (YYYYMMDD)\n",
    "    start_date = start_date.strftime(\"%Y%m%d\")\n",
    "    enddate = enddate.strftime(\"%Y%m%d\")\n",
    "\n",
    "    request_data['param'] = AQI_PARAMS_GASEOUS\n",
    "# request daily summary data for the month of July in 2021\n",
    "    gaseous_aqi = request_daily_summary(request_template=request_data, begin_date=start_date, end_date=enddate)\n",
    "    print(f\"Response for the gaseous pollutants for {start_date} ...\")\n",
    "\n",
    "    if gaseous_aqi[\"Header\"][0]['status'] == \"Success\":\n",
    "        extract_gaseous = extract_summary_from_response(gaseous_aqi)\n",
    "        yearly_gaseous_data.append(extract_gaseous)\n",
    "    elif gaseous_aqi[\"Header\"][0]['status'].startswith(\"No data \"):\n",
    "        print(\"No data generated\")\n",
    "    else:\n",
    "        print(json.dumps(gaseous_aqi,indent=4))\n",
    "\n",
    "    request_data['param'] = AQI_PARAMS_PARTICULATES\n",
    "\n",
    "    particulate_aqi = request_daily_summary(request_template=request_data, begin_date=start_date, end_date=enddate)\n",
    "    print(f\"Response for the particulate pollutants for {start_date} ...\")\n",
    "\n",
    "    if particulate_aqi[\"Header\"][0]['status'] == \"Success\":\n",
    "        extract_particulate = extract_summary_from_response(particulate_aqi)\n",
    "        yearly_particulate_data.append(extract_particulate)\n",
    "    elif particulate_aqi[\"Header\"][0]['status'].startswith(\"No data \"):\n",
    "        print(\"No data generated\")\n",
    "    else:\n",
    "        print(json.dumps(particulate_aqi,indent=4))\n"
   ]
  },
  {
   "cell_type": "markdown",
   "metadata": {},
   "source": [
    "#### Step 2.5. Extracting Gaseous AQI data from the summary\n",
    "\n",
    "##### The code below processes yearly air quality data for gaseous pollutants from multiple sites and observations. It starts by initializing a dictionary, yearly_gaseous_aqi, which will store the total AQI values and the number of entries for each year. The code iterates through the data, extracting information about pollutant types, years, and observations. For each observation, it calculates the total AQI values and the number of valid entries for that year, considering sample durations. The results are stored in the yearly_gaseous_aqi dictionary with keys representing years, and the corresponding tuples contain the total AQI and entry counts. This data can be further used for yearly air quality analysis and assessment."
   ]
  },
  {
   "cell_type": "code",
   "execution_count": 28,
   "metadata": {},
   "outputs": [],
   "source": [
    "# Initialize the yearly_gaseous_aqi dictionary as a defaultdict of lists of tuples\n",
    "yearly_gaseous_aqi = defaultdict(list)\n",
    "\n",
    "# Create a set to store unique sample_duration values\n",
    "unique_sample_durations = set()\n",
    "\n",
    "for entry in yearly_gaseous_data:\n",
    "    # Iterate through the years and observations for each entry\n",
    "    for site_id, site_data in entry.items():\n",
    "        \n",
    "        for pollutant_type, pollutant_data in site_data['pollutant_type'].items():\n",
    "            \n",
    "            # Extract the year from the date (e.g., '20200101' -> '2020')\n",
    "            year = list(pollutant_data['data'].keys())[0][:4]\n",
    "            # Initialize variables to calculate the yearly average\n",
    "            total_aqi = 0\n",
    "            num_entries = 0\n",
    "\n",
    "            for date, date_data in pollutant_data['data'].items():\n",
    "                for observation_data in date_data:\n",
    "\n",
    "                    sample_duration = observation_data['sample_duration']\n",
    "                    # Add it to the set\n",
    "                    unique_sample_durations.add(sample_duration)\n",
    "                \n",
    "                    if observation_data['aqi'] is not None and observation_data['aqi'] != 0:\n",
    "                        # Add the AQI value to the total\n",
    "                        total_aqi += observation_data['aqi']\n",
    "                        num_entries += 1\n",
    "\n",
    "            # Append the tuple (total_aqi, num_entries) to the year in yearly_aqi\n",
    "            yearly_gaseous_aqi[year].append((total_aqi, num_entries))\n"
   ]
  },
  {
   "cell_type": "markdown",
   "metadata": {},
   "source": [
    "#### Step 2.6. Extracting Particulate AQI data from the summary\n",
    "\n",
    "##### We now repeat the step above for particulate AQI data. The code below processes yearly air quality data for particulate pollutants from multiple sites and observations. It starts by initializing a dictionary, yearly_particulate_aqi, which will store the total AQI values and the number of entries for each year. The code iterates through the data, extracting information about pollutant types, years, and observations. For each observation, it calculates the total AQI values and the number of valid entries for that year, considering sample durations. The results are stored in the yearly_particulate_aqi dictionary with keys representing years, and the corresponding tuples contain the total AQI and entry counts. This data can be further used for yearly air quality analysis and assessment."
   ]
  },
  {
   "cell_type": "code",
   "execution_count": 30,
   "metadata": {},
   "outputs": [],
   "source": [
    "# Initialize the yearly_particulate_aqi dictionary as a defaultdict of lists of tuples\n",
    "yearly_particulate_aqi = defaultdict(list)\n",
    "\n",
    "# Create a set to store unique sample_duration values\n",
    "unique_sample_durations_particulate = set()\n",
    "\n",
    "for entry in yearly_particulate_data:\n",
    "    # Iterate through the years and observations for each entry\n",
    "    for site_id, site_data in entry.items():\n",
    "        \n",
    "        for pollutant_type, pollutant_data in site_data['pollutant_type'].items():\n",
    "            \n",
    "            # Extract the year from the date (e.g., '20200101' -> '2020')\n",
    "            year = list(pollutant_data['data'].keys())[0][:4]\n",
    "            # Initialize variables to calculate the yearly average\n",
    "            total_aqi = 0\n",
    "            num_entries = 0\n",
    "\n",
    "            for date, date_data in pollutant_data['data'].items():\n",
    "                for observation_data in date_data:\n",
    "\n",
    "                    sample_duration = observation_data['sample_duration']\n",
    "                    # Add it to the set\n",
    "                    unique_sample_durations_particulate.add(sample_duration)\n",
    "                \n",
    "                    if observation_data['aqi'] is not None and observation_data['aqi'] != 0:\n",
    "                        # Add the AQI value to the total\n",
    "                        total_aqi += observation_data['aqi']\n",
    "                        num_entries += 1\n",
    "\n",
    "            # Append the tuple (total_aqi, num_entries) to the year in yearly_aqi\n",
    "            yearly_particulate_aqi[year].append((total_aqi, num_entries))"
   ]
  },
  {
   "cell_type": "markdown",
   "metadata": {},
   "source": [
    "#### Step 2.7: Calculating AQI for each year. \n",
    "\n",
    "##### The code below calculates the annual average Air Quality Index (AQI) for each year using data from gaseous and particulate pollutants. It iterates through each year in yearly_gaseous_aqi, extracts the AQI values and the number of data points (entries) for both gaseous and particulate pollutants. Then, it combines the total AQI and data points from both types of pollutants. The annual average AQI is computed by dividing the total AQI by the total data points, ensuring a non-zero denominator to avoid division by zero. Finally, it updates the df_analysis DataFrame with the calculated average AQI for each corresponding year, rounding the values to two decimal places. This process allows for the aggregation of AQI data for further analysis and visualization."
   ]
  },
  {
   "cell_type": "code",
   "execution_count": 32,
   "metadata": {},
   "outputs": [],
   "source": [
    "for year in yearly_gaseous_aqi.keys():\n",
    "    # Initialize variables for total AQI and data points\n",
    "    total_aqi = 0\n",
    "    total_data_points = 0\n",
    "\n",
    "    # Extract AQI values and data points from gaseous AQI\n",
    "    gaseous_aqi_entries = yearly_gaseous_aqi[year]\n",
    "    gaseous_aqi_values = [value for value, _ in gaseous_aqi_entries]\n",
    "    gaseous_data_points = [data_point for _, data_point in gaseous_aqi_entries]\n",
    "\n",
    "    # Extract AQI values and data points from particulate AQI\n",
    "    particulate_aqi_entries = yearly_particulate_aqi.get(year, [])\n",
    "    particulate_aqi_values = [value for value, _ in particulate_aqi_entries]\n",
    "    particulate_data_points = [data_point for _, data_point in particulate_aqi_entries]\n",
    "\n",
    "    # Calculate the combined total AQI and data points\n",
    "    total_aqi = sum(gaseous_aqi_values) + sum(particulate_aqi_values)\n",
    "    total_data_points = sum(gaseous_data_points) + sum(particulate_data_points)\n",
    "\n",
    "    # Calculate the average AQI\n",
    "    average_aqi = total_aqi / total_data_points if total_data_points > 0 else 0\n",
    "\n",
    "    year = int(year)\n",
    "\n",
    "    if average_aqi != 0:\n",
    "        df_analysis.loc[df_analysis['Fire_Year'] == year, 'AQI'] = average_aqi\n",
    "\n",
    "df_analysis['AQI'] = df_analysis['AQI'].round(2)"
   ]
  },
  {
   "cell_type": "markdown",
   "metadata": {},
   "source": [
    "## Step 3: Creating Yearly Smoke Impact Estimates\n",
    "\n",
    "##### Now that the data is ready, the code below creates an annual estimate of wildfire smoke in Gillette. It calculates the weighted impact score for each year based on two factors: distance and area burned. It assigns a higher weight (80%) to distance and a lower weight (20%) to area burned. I selected these weights as it seemed reasonable that distance of the fire from the city would have a greater impact than area burned. The data is then grouped by 'Fire_Year,' and the average values of the weighted 'Smoke_Estimate' and 'AQI' are calculated for each year. The resulting DataFrame is renamed to 'yearly_smoke_estimate,' and the 'Yearly_Smoke_Estimate' column is updated to reflect the calculated values. Finally, the code rescales the 'Yearly_Smoke_Estimate' values to a 0-100 range, ensuring that they are relative to the minimum and maximum values within that range. This allows for easier comparison and visualization of the yearly smoke impact estimates to the AQI data later. \n",
    "\n",
    "#### Step 3.1: Calculating the Yearly Smoke Impact"
   ]
  },
  {
   "cell_type": "code",
   "execution_count": 34,
   "metadata": {},
   "outputs": [],
   "source": [
    "# Calculate the weighted impact score for each year\n",
    "weight_distance = 0.8\n",
    "weight_area_burned = 0.2\n",
    "\n",
    "\n",
    "df_analysis['Smoke_Estimate'] = (\n",
    "    weight_distance * df_analysis['Distance'] +\n",
    "    weight_area_burned * df_analysis['GIS_Acres']\n",
    ")\n",
    "\n",
    "# Group the data by 'Fire_Year' and calculate the average of the Smoke Estimate for each year\n",
    "yearly_smoke_estimate = df_analysis.groupby('Fire_Year').agg({\n",
    "    'Smoke_Estimate': 'mean',\n",
    "    'AQI': 'mean'\n",
    "}).reset_index()\n",
    "\n",
    "# Rename the 'Smoke_Estimate' column to 'Yearly_Smoke_Estimate'\n",
    "yearly_smoke_estimate.rename(columns={'Smoke_Estimate': 'Yearly_Smoke_Estimate'}, inplace=True)\n",
    "\n",
    "# Calculate the min and max yearly Smoke Estimates\n",
    "min_score = yearly_smoke_estimate['Yearly_Smoke_Estimate'].min()\n",
    "max_score = yearly_smoke_estimate['Yearly_Smoke_Estimate'].max()\n",
    "\n",
    "# Rescale the yearly Smoke Estimate to the 0-100 range\n",
    "yearly_smoke_estimate['Yearly_Smoke_Estimate'] = (yearly_smoke_estimate['Yearly_Smoke_Estimate'] - min_score) / (max_score - min_score) *100\n"
   ]
  },
  {
   "cell_type": "markdown",
   "metadata": {},
   "source": [
    "#### Step 3.2: Calculating the Correlation between Yearly Smoke Estimate and AQI\n",
    "\n",
    "##### This code generates a heatmap using the seaborn library to visualize the correlation matrix of the 'yearly_smoke_estimate' DataFrame."
   ]
  },
  {
   "cell_type": "code",
   "execution_count": 36,
   "metadata": {},
   "outputs": [
    {
     "data": {
      "image/png": "[encoded data removed]",
      "text/plain": [
       "<Figure size 800x500 with 2 Axes>"
      ]
     },
     "metadata": {},
     "output_type": "display_data"
    }
   ],
   "source": [
    "# Create a heatmap\n",
    "plt.figure(figsize=(8, 5))  # Set the size of the heatmap\n",
    "sns.heatmap(yearly_smoke_estimate.corr(), annot=True, cmap='coolwarm', fmt='.2f', linewidths=.5)\n",
    "plt.title(\"Correlation Matrix Heatmap\")\n",
    "plt.show()"
   ]
  },
  {
   "cell_type": "markdown",
   "metadata": {},
   "source": [
    "##### As we can see above, the correlation is 0.29 which seems reasonable considering many factors that affect smoke impact such as wind direction over a course of several days, the intensity of the fire, and its duration are not available to us. "
   ]
  },
  {
   "cell_type": "markdown",
   "metadata": {},
   "source": [
    "## Step 4: Visualizations\n",
    "\n",
    "##### The following section includes visualizations that illustrate the results of the analysis."
   ]
  },
  {
   "cell_type": "markdown",
   "metadata": {},
   "source": [
    "#### Step 4.1: Number of fires vs Distance in Gillette, Wyoming\n",
    "\n",
    "##### This code below generates a histogram showing the number of fires occurring every 50 mile distance from Gillette up to t1250 miles.The x-axis represents the distance in miles, while the y-axis shows the number of fires in each distance range. It uses a custom color scheme for the bars and specifies the bin width for the histogram to be 50. \n"
   ]
  },
  {
   "cell_type": "code",
   "execution_count": 40,
   "metadata": {},
   "outputs": [
    {
     "data": {
      "image/png": "[encoded data removed]",
      "text/plain": [
       "<Figure size 1200x600 with 1 Axes>"
      ]
     },
     "metadata": {},
     "output_type": "display_data"
    }
   ],
   "source": [
    "# Create a histogram\n",
    "\n",
    "# Define custom colors for the bars\n",
    "plt.figure(figsize=(12, 6))\n",
    "ax = sns.histplot(data=df_analysis, x='Distance', bins=range(0, 1250 + 51, 50), kde=False, color = '#288BA8', edgecolor = 'yellow')\n",
    "plt.xlabel('Distance (miles)')\n",
    "plt.ylabel('Number of Fires')\n",
    "plt.title('Number of fires vs every 50-mile-distance in Gillette, Wyoming')\n",
    "\n",
    "# Set x-axis labels for every 200 miles\n",
    "ax.set_xticks(range(0, 1250 + 1, 100))\n",
    "# Ensure that 0 on the x-axis aligns with 0 on the y-axis without a gap\n",
    "plt.xlim(0, 1250)\n",
    "\n",
    "plt.show()"
   ]
  },
  {
   "cell_type": "markdown",
   "metadata": {},
   "source": [
    "#### Step 4.2: Total Acres Burned per Year within 1250 miles of Gillette Wyoming\n",
    "\n",
    "##### The code groups the data by 'Fire_Year' and calculates the total acres burned per year within 1250 miles of Gillette, Wyoming. It creates a time series plot to visualize the annual variation in acres burned. The x-axis represents the years from 1963-2023, while the y-axis shows the total acres burned. Each data point is marked with a circular marker. The plot provides insights into the historical trends and variations in the extent of wildfires in the region over time, helping to understand the impact of fires on the landscape\n"
   ]
  },
  {
   "cell_type": "code",
   "execution_count": 41,
   "metadata": {},
   "outputs": [
    {
     "data": {
      "image/png": "[encoded data removed]",
      "text/plain": [
       "<Figure size 1200x600 with 1 Axes>"
      ]
     },
     "metadata": {},
     "output_type": "display_data"
    }
   ],
   "source": [
    "# Group the data by 'Fire_Year' and calculate the total acres burned per year\n",
    "acres_burned_per_year = df_analysis.groupby('Fire_Year')['GIS_Acres'].sum().reset_index()\n",
    "\n",
    "# Create a time series plot\n",
    "plt.figure(figsize=(12, 6))\n",
    "sns.lineplot(data=acres_burned_per_year, x='Fire_Year', y='GIS_Acres', marker='o', color='#800080')\n",
    "plt.xlabel('Year')\n",
    "plt.ylabel('Total Acres Burned')\n",
    "plt.title(f'Total Acres Burned per Year within 1250 miles of Gillette, Wyoming')\n",
    "plt.grid(True)\n",
    "\n",
    "# Set the X-axis labels to show every 5 years\n",
    "x_ticks = np.arange(1960, 2020 + 1, 5)\n",
    "plt.xticks(x_ticks)\n",
    "plt.xlim(1963-1, 2020+1)\n",
    "plt.show()"
   ]
  },
  {
   "cell_type": "markdown",
   "metadata": {},
   "source": [
    "#### Step 4.3: Fire Smoke Estimate and AQI Over Time\n",
    "\n",
    "##### The code below creates a time series graph to visualize the trends of two variables, 'Fire Smoke Estimate' and 'AQI,' over time. It plots these two variables on the same graph, with 'Fire Year' on the x-axis and the values on the y-axis. Two line plots are generated, one for 'Fire Smoke Estimate' and another for 'AQI,' with circular markers indicating data points. The graph is labeled, and the y-axis is limited to a range of 0 to 120. It provides a visual representation of how 'Fire Smoke Estimate' and 'AQI' have evolved over the years and allows for comparisons between the two data series. The x-axis labels are set to show every 5 years for better readability."
   ]
  },
  {
   "cell_type": "code",
   "execution_count": 48,
   "metadata": {},
   "outputs": [
    {
     "data": {
      "image/png": "[encoded data removed]",
      "text/plain": [
       "<Figure size 1200x600 with 1 Axes>"
      ]
     },
     "metadata": {},
     "output_type": "display_data"
    }
   ],
   "source": [
    "# Create a time series graph\n",
    "plt.figure(figsize=(12, 6))  # Set the figure size\n",
    "\n",
    "# Plot Fire Smoke Estimate\n",
    "sns.lineplot(x='Fire_Year', y='Yearly_Smoke_Estimate', data=yearly_smoke_estimate, label='Fire Smoke Estimate', marker = 'o')\n",
    "\n",
    "# Plot AQI Estimate\n",
    "sns.lineplot(x='Fire_Year', y='AQI', data=yearly_smoke_estimate, label='AQI', marker = 'o')\n",
    "\n",
    "plt.xlabel('Year')\n",
    "plt.ylabel('Value')\n",
    "plt.title('Fire Smoke Estimate and AQI Over Time')\n",
    "plt.legend()\n",
    "plt.ylim(0,120)\n",
    "x_ticks = np.arange(1960, 2020 + 1, 5)\n",
    "plt.xticks(x_ticks)\n",
    "plt.xlim(1963-1, 2020+1)\n",
    "plt.grid(True)\n",
    "plt.show()"
   ]
  },
  {
   "cell_type": "markdown",
   "metadata": {},
   "source": [
    "## Step 5: Building the Prediction Model\n",
    "\n",
    "##### The following section develops a predictive model based on the fire data and smoke estimate. The model predicts smoke estimates for every year for the next 28 years (i.e., 2021-2049). \n",
    "\n",
    "##### The code utilize the ARIMA (AutoRegressive Integrated Moving Average) model for forecasting. This is a suitable choice as we do not have any predictor data available for the years 2021 - 2049 so methods such as linear regression etc are difficult to apply. ARIMA models are specifically designed for analyzing and forecasting time series data, making them well-suited for this type of problem. It's essential to note that the choice of ARIMA parameters (p, d, q) should be based on rigorous analysis and, in practice, require some experimentation and testing to find the most suitable model order for the dataset at hand. Here, I selected the values by trying a subset and seeing which one worked best to model past trends. \n",
    "\n",
    "##### The code below defines the order of the model, represented as (p, d, q), and then fits the ARIMA model using historical data of yearly smoke estimates. The model is employed to make predictions for a specified forecast period. The forecasted values are stored in a DataFrame with corresponding year values, extending beyond the last year in the historical data to cover the forecasted period. This allows for the creation of a complete dataset containing both historical and forecasted values. To convey appropriate levels of uncertainty in your ARIMA predictions, we calculate and plot prediction intervals. Prediction intervals provide a range within which we expect the actual values to fall with a certain level of confidence. "
   ]
  },
  {
   "cell_type": "code",
   "execution_count": 73,
   "metadata": {},
   "outputs": [
    {
     "name": "stderr",
     "output_type": "stream",
     "text": [
      "c:\\Users\\mehja\\anaconda3\\lib\\site-packages\\statsmodels\\tsa\\statespace\\sarimax.py:866: UserWarning: Too few observations to estimate starting parameters for ARMA and trend. All parameters except for variances will be set to zeros.\n",
      "  warn('Too few observations to estimate starting parameters%s.'\n",
      "c:\\Users\\mehja\\anaconda3\\lib\\site-packages\\statsmodels\\base\\model.py:607: ConvergenceWarning: Maximum Likelihood optimization failed to converge. Check mle_retvals\n",
      "  warnings.warn(\"Maximum Likelihood optimization failed to \"\n"
     ]
    }
   ],
   "source": [
    "# Determine the order (p, d, q) for the ARIMA model using analysis\n",
    "\n",
    "# Fit the ARIMA model\n",
    "arima_order = (40,0,20)  \n",
    "model = ARIMA(yearly_smoke_estimate['Yearly_Smoke_Estimate'], order=arima_order)\n",
    "results = model.fit()\n",
    "\n",
    "# Make predictions (e.g., forecasting the next 12 time points)\n",
    "forecast_period = 28  # Change this as needed\n",
    "forecast_results = results.get_forecast(steps=forecast_period)\n",
    "\n",
    "# Extract the forecasted values and prediction intervals\n",
    "forecasted_values = forecast_results.predicted_mean\n",
    "forecasted_intervals = forecast_results.conf_int()\n",
    "\n",
    "# Create a DataFrame for the forecasted values with dates\n",
    "forecast_df = pd.DataFrame(forecasted_values)\n",
    "forecast_df['Year'] = range(\n",
    "    yearly_smoke_estimate['Fire_Year'].max() + 1,\n",
    "    yearly_smoke_estimate['Fire_Year'].max() + 1 + len(forecast_df)\n",
    ")"
   ]
  },
  {
   "cell_type": "code",
   "execution_count": 74,
   "metadata": {},
   "outputs": [
    {
     "data": {
      "image/png": "[encoded data removed]",
      "text/plain": [
       "<Figure size 1200x600 with 1 Axes>"
      ]
     },
     "metadata": {},
     "output_type": "display_data"
    }
   ],
   "source": [
    "# Create the line plot for actual data up to 2020\n",
    "plt.figure(figsize=(12, 6))\n",
    "sns.lineplot(x='Fire_Year', y='Yearly_Smoke_Estimate', data=yearly_smoke_estimate, label='Actual Smoke Estimate', marker='o')\n",
    "\n",
    "# Create the line plot for predicted data beyond 2020 with a different color\n",
    "sns.lineplot(x='Year', y='predicted_mean', data=forecast_df, label='Predicted Smoke Estimate', marker='o', color='red')\n",
    "plt.fill_between(\n",
    "    forecast_df['Year'],\n",
    "    forecasted_intervals.iloc[:, 0],\n",
    "    forecasted_intervals.iloc[:, 1],\n",
    "    color='red',\n",
    "    alpha=0.2,\n",
    "    label='Prediction Intervals',\n",
    ")\n",
    "plt.xlabel('Year')\n",
    "plt.ylabel('Yearly Smoke Estimate')\n",
    "plt.title('Yearly Smoke Estimate Over Time')\n",
    "plt.legend()\n",
    "plt.grid(True)\n",
    "plt.ylim(0,120)\n",
    "plt.show()\n"
   ]
  }
 ],
 "metadata": {
  "kernelspec": {
   "display_name": "Python 3 (ipykernel)",
   "language": "python",
   "name": "python3"
  },
  "language_info": {
   "codemirror_mode": {
    "name": "ipython",
    "version": 3
   },
   "file_extension": ".py",
   "mimetype": "text/x-python",
   "name": "python",
   "nbconvert_exporter": "python",
   "pygments_lexer": "ipython3",
   "version": "3.9.18"
  }
 },
 "nbformat": 4,
 "nbformat_minor": 4
}
